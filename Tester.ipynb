{
 "cells": [
  {
   "cell_type": "code",
   "execution_count": 1,
   "metadata": {
    "collapsed": false,
    "deletable": true,
    "editable": true
   },
   "outputs": [
    {
     "name": "stdout",
     "output_type": "stream",
     "text": [
      "Importing Jupyter notebook from EncapsulatedSchoolObject.ipynb\n",
      "Importing Jupyter notebook from getTextAndFiles.ipynb\n"
     ]
    }
   ],
   "source": [
    "import pandas\n",
    "import urllib\n",
    "import nbimporter #need to pip install this\n",
    "import EncapsulatedSchoolObject as school\n",
    "df = pandas.read_excel('Charters_micro-sample.xlsx')"
   ]
  },
  {
   "cell_type": "markdown",
   "metadata": {
    "deletable": true,
    "editable": true
   },
   "source": [
    "## Keyword lists"
   ]
  },
  {
   "cell_type": "code",
   "execution_count": 2,
   "metadata": {
    "collapsed": true,
    "deletable": true,
    "editable": true
   },
   "outputs": [],
   "source": [
    "#mission = [' vision ', 'Vision ', 'our purpose', ' cause ', ' objectives ', ' mission', ' vision: ', ' mission: ', 'Mission']\n",
    "#curriculum = [ 'program', 'methods', 'pedagogy', 'approach', 'model', 'curriculum', 'academics', 'degree']\n",
    "#philosophy = ['beliefs', 'principles', 'creed', 'Values', 'philosophy', 'moral']\n",
    "#history = ['story', 'background', 'founded', 'established']\n",
    "#target = ['gifted', 'at-risk', 'ethnic background', 'target population', 'target audience']\n",
    "#resources = ['ESL', 'tutoring', 'after-school programs', 'available resources', 'services', 'opportunities', 'opportunity']\n",
    "#orgfactor = ['statistics', 'API', 'environment', 'ratio', 'average', 'female', 'fund', 'community']\n",
    "\n",
    "mission = ['mission',' vision ', 'vision:', 'mission:', 'our purpose', 'our ideals', 'ideals:', 'our cause', 'cause:', 'goals', 'objective']\n",
    "curriculum = ['curriculum', 'curricular', 'program', 'method', 'pedagogy', 'pedagogical', 'approach', 'model', 'system', 'structure']\n",
    "philosophy = ['philosophy', 'philosophical', 'beliefs', 'believe', 'principles', 'creed', 'credo', 'value',  'moral', 'Values']\n",
    "history = ['history', 'our story', 'the story', 'school story', 'background', 'founding', 'founded', 'established', 'establishment', 'our school began', 'we began', 'doors opened', 'school opened']\n",
    "general =  ['about us', 'our school', 'who we are', 'overview', 'general information', 'our identity', 'profile', 'highlights']"
   ]
  },
  {
   "cell_type": "code",
   "execution_count": 3,
   "metadata": {
    "collapsed": false,
    "deletable": true,
    "editable": true
   },
   "outputs": [],
   "source": [
    "\n",
    "#get the values from the URL column (stored as list)\n",
    "links = df['URL'].values"
   ]
  },
  {
   "cell_type": "code",
   "execution_count": null,
   "metadata": {
    "collapsed": false,
    "deletable": true,
    "editable": true
   },
   "outputs": [
    {
     "name": "stderr",
     "output_type": "stream",
     "text": [
      "c:\\users\\akcan_000\\appdata\\local\\programs\\python\\python36\\lib\\site-packages\\bs4\\__init__.py:181: UserWarning: No parser was explicitly specified, so I'm using the best available HTML parser for this system (\"lxml\"). This usually isn't a problem, but if you run this code on another system, or in a different virtual environment, it may use a different parser and behave differently.\n",
      "\n",
      "The code that caused this warning is on line 193 of the file c:\\users\\akcan_000\\appdata\\local\\programs\\python\\python36\\lib\\runpy.py. To get rid of this warning, change code that looks like this:\n",
      "\n",
      " BeautifulSoup([your markup])\n",
      "\n",
      "to this:\n",
      "\n",
      " BeautifulSoup([your markup], \"lxml\")\n",
      "\n",
      "  markup_type=markup_type))\n"
     ]
    },
    {
     "name": "stdout",
     "output_type": "stream",
     "text": [
      "Encounter an invalid link: mailto:admin@westlakecharter.com ---Error code: [no code collected]\n",
      "Encounter an invalid link: mailto:admin@westlakecharter.com ---Error code: [no code collected]\n",
      "Encounter an invalid link: mailto:admin@westlakecharter.com ---Error code: [no code collected]\n"
     ]
    }
   ],
   "source": [
    "#(self, url, nodeParams, keyValues)\n",
    "\n",
    "\n",
    "#creating a list of all the keyword lists\n",
    "#keyValues = [mission, curriculum, philosophy, history, target, resources, orgfactor]\n",
    "keyValues = [mission, curriculum, philosophy, history, general]\n",
    "\n",
    "#creating a list of key names for the JSON node that correspond to the keyValues list\n",
    "#nodeParams = ['mission', 'curriculum', 'philosophy', 'history', 'target', 'resources' , 'organizational_factors']\n",
    "nodeParams = ['mission', 'curriculum', 'philosophy', 'history', 'general']\n",
    "testedLinks = {}\n",
    "\n",
    "#print(links[0])\n",
    "\n",
    "\n",
    "\n",
    "#constructor = school.WebsiteData('https://www.richland2.org/charterhigh/', nodeParams, keyValues)\n",
    "#constructor.createJsonNode()\n",
    "#print(constructor.URL)\n",
    "\n",
    "def tester(links, keyValues, nodeParams):\n",
    "    testedLinks[links[5]] = school.WebsiteData(links[5], nodeParams, keyValues).createJsonNode()\n",
    "    #for i in range(5, 6):\n",
    "        #testedLinks[links[i]] = school.WebsiteData(links[i], nodeParams, keyValues).createJsonNode()\n",
    "tester(links, keyValues, nodeParams)"
   ]
  },
  {
   "cell_type": "code",
   "execution_count": null,
   "metadata": {
    "collapsed": true
   },
   "outputs": [],
   "source": []
  }
 ],
 "metadata": {
  "kernelspec": {
   "display_name": "Python 3",
   "language": "python",
   "name": "python3"
  },
  "language_info": {
   "codemirror_mode": {
    "name": "ipython",
    "version": 3
   },
   "file_extension": ".py",
   "mimetype": "text/x-python",
   "name": "python",
   "nbconvert_exporter": "python",
   "pygments_lexer": "ipython3",
   "version": "3.6.0"
  }
 },
 "nbformat": 4,
 "nbformat_minor": 2
}
