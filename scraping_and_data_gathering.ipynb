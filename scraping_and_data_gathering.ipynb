{
 "cells": [
  {
   "cell_type": "code",
   "execution_count": 1,
   "metadata": {
    "collapsed": false
   },
   "outputs": [],
   "source": [
    "from bs4 import BeautifulSoup\n",
    "\n",
    "import requests\n",
    "\n",
    "url = 'https://www.polk.edu/lakeland-gateway-to-college-high-school/'\n",
    "\n",
    "r  = requests.get(url)\n",
    "\n",
    "data = r.text\n",
    "soup = BeautifulSoup(data, \"lxml\")"
   ]
  },
  {
   "cell_type": "markdown",
   "metadata": {},
   "source": [
    "***Using beautifulsoup we are able to parse through the website***\n",
    "\n",
    "*Note:* if the above cell errors, the website is not legit\n",
    "\n",
    "Now we parse through the collected data which is stored in a beautifulsoup style in the soup variable, so we use the below calls to h and j to call upon the 'a' and 'p' tags to find all of the external links corresponding to the page and all the text within the webpage\n",
    "\n",
    "*Note:* Please find a better way to get all the text as was a problem with the Core Values example"
   ]
  },
  {
   "cell_type": "code",
   "execution_count": 2,
   "metadata": {
    "collapsed": false
   },
   "outputs": [
    {
     "name": "stdout",
     "output_type": "stream",
     "text": [
      " \n",
      "\n",
      "Polk State Lakeland Gateway to College Collegiate High School is an exciting new opportunity for area students, typically between the ages of 16 and 21, who have earned 45% of the credits required for high school graduation.  All courses are taught on the Polk State Lakeland campus and offered during morning and afternoon hours, to provide students with maximum flexibility and opportunity for success. The school is funded in part through a grant from the Gateway to College National Network.\n",
      "If you would like to support Polk State Lakeland Gateway to College Collegiate High School, click here to\n",
      "\n",
      " \n",
      "Polk State College\n",
      "\n",
      "Winter Haven · Lakeland\n",
      "Bartow · Lake Wales\n",
      "\n",
      "(863) 297-1000\n",
      "© 2017 Polk State College. All Rights Reserved.\r\n",
      "\t\n",
      "Sitemap\n",
      "Privacy Policy\n",
      "Disclaimer\n",
      "Equity & Diversity\n",
      "Careers\n",
      "Course Catalog\n",
      "Intranet\n",
      "\n",
      "\n"
     ]
    }
   ],
   "source": [
    "h = soup.find_all('a')\n",
    "j = soup.find_all('p')\n",
    "for lin in j:\n",
    "    k = str(lin)\n",
    "    if lin.get('class') == None and lin.get('a') == None and len(k.split('|')) == 1:\n",
    "        print(lin.get_text())\n",
    "\n",
    " "
   ]
  },
  {
   "cell_type": "markdown",
   "metadata": {},
   "source": [
    "***Now we get all the external links.***"
   ]
  },
  {
   "cell_type": "code",
   "execution_count": 3,
   "metadata": {
    "collapsed": false
   },
   "outputs": [
    {
     "name": "stdout",
     "output_type": "stream",
     "text": [
      "{'/bartow/', 'https://www.polk.edu/events/polk-state-bookstores-closed/', 'https://www.polk.edu/wp-content/uploads/LakelandFlyerGHS.pdf', 'https://www.polk.edu/equity-diversity/', 'https://www.polk.edu/lakeland-gateway-to-college-high-school/student-resources/', 'https://www.polk.edu/events/saturday-classes-will-not-meet-week-spring-break/', 'https://www.olark.com/site/2211-355-10-8055/contact', 'https://www.polk.edu/lakeland-gateway-to-college-high-school/admission-information/', 'https://www.polk.edu/lakeland-gateway-to-college-high-school/textbook-return-spring-2016/', '/people/department/lakeland-gateway-to-college-high-school/', '/lakeland/', 'http://catalog.polk.edu', 'http://www.facebook.com/PolkState', 'http://polkstatecareers.silkroad.com', 'https://docs.google.com/forms/d/1XntkQKBWofGNoogniYji78tnAyo1WFaY-doBK9a9ndg/viewform', 'https://www.polk.edu/about/', 'http://www.youtube.com/user/WeArePolk', 'https://www.polk.edu/lakeland-gateway-to-college-high-school/about-us/', 'https://www.polk.edu/lakeland-gateway-to-college-high-school/college-and-career/financial-aid-application-information-2016/', 'https://www.outlook.com/my.polk.edu', 'https://extranet.polk.edu', 'https://www.polk.edu/lakeland-gateway-to-college-high-school/parent-internet-viewer/', 'https://www.polk.edu/events/financial-aid-guaranteed-processing-deadline-april-18-2017/', 'http://www.olark.com?welcome', 'http://owa.polk.edu', '/news/in/lakeland-gateway-to-college-high-school', 'https://www.polk.edu/academics/', 'https://www.polk.edu/lakeland-gateway-to-college-high-school/higher-reach-site/', 'https://www.polk.edu/news/polks-top-grads-gateway-salutatorian-found-academic-footing-gained-confidence/', 'https://www.polk.edu/lakeland-gateway-to-college-high-school/about-us/board-of-trustees/', 'https://www.polk.edu/admission-aid/', 'https://www.polk.edu/lakeland-gateway-to-college-high-school/college-and-career/scholarship-opportunities-2016/', 'https://passport.polk.edu', 'http://foundation.polk.edu', '/', 'https://www.polk.edu/lakeland-gateway-to-college-high-school/', 'https://www.polk.edu/community/', 'https://www.polk.edu/lakeland-gateway-to-college-high-school/dearly-dismissal-days-2015-16/', 'https://www.polk.edu/lakeland-gateway-to-college-high-school/administration-staff/', 'https://www.polk.edu/lakeland-gateway-to-college-high-school/college-and-career/', '/winter-haven/', '/events/', 'https://secure.qgiv.com/for/pscfd/restriction/GatewayFund', 'https://www.polk.edu/lakeland-gateway-to-college-high-school/bullying-information/', '/news/in/lakeland-gateway-to-college-high-school/', '/news/', 'https://www.polk.edu/lakeland-gateway-to-college-high-school/senior-portraits-class-2017/', 'https://www.polk.edu/lakeland-gateway-to-college-high-school/alumni-information/', 'https://www.polk.edu/news/father-bullying-victim-implores-polk-state-students-upstanders-remember-loved-beyond-belief/', 'https://www.polk.edu/student-life/', 'https://www.polk.edu/sitemap/', 'https://www.polk.edu/lakeland-gateway-to-college-high-school/school-bus-transportation-2016-2017-school-year/', 'https://www.polk.edu/events/spring-break-college-closed-2/', 'https://www.polk.edu/disclaimer/', '#skip-content', '/equity', '/people/', 'https://www.polk.edu/privacy-policy/', 'https://www.polk.edu/library-tlcc/', '/lake-wales/', 'https://www.polk.edu/lakeland-gateway-to-college-high-school/guidance/', 'https://www.polk.edu/lakeland-gateway-to-college-high-school/clubs/', 'https://www.polk.edu/lakeland-gateway-to-college-high-school/registration-information-washington-dc/', 'http://polkeagles.com/', 'https://www.polk.edu/locations/', '/lakeland-gateway-to-college-high-school', 'http://www.gatewaytocollege.org/', 'https://passport.polk.edu/Genesis/student/applogon.jsp', 'http://www.twitter.com/PolkState', 'https://polk.desire2learn.com', 'https://www.polk.edu/news/polks-top-grads-gateway-valedictorian-tools-study-university-level/'}\n",
      "71\n"
     ]
    }
   ],
   "source": [
    "l = []\n",
    "for i in h:\n",
    "    l.append(i.get('href'))\n",
    "l = set(l)\n",
    "print(l)\n",
    "print(len(l))"
   ]
  },
  {
   "cell_type": "markdown",
   "metadata": {},
   "source": [
    "***Way too many! Also there are very irrelevant external websites.***\n",
    "\n",
    "To take care of this problem we make a urlkey which takes in key words on the urls we actually want to scrape from.\n",
    "\n",
    "*Note:* The urlkey is subject to change based on more or less relevant key words found"
   ]
  },
  {
   "cell_type": "code",
   "execution_count": 4,
   "metadata": {
    "collapsed": false
   },
   "outputs": [
    {
     "data": {
      "text/plain": [
       "['ABOUT',\n",
       " 'DEPARTMENT',\n",
       " 'HOME',\n",
       " 'COMMUNITY',\n",
       " 'LIFE',\n",
       " 'CURRICULUM',\n",
       " 'HIST',\n",
       " 'PHIL',\n",
       " 'ACADEMICS',\n",
       " 'MORAL',\n",
       " 'FOCUS',\n",
       " 'BELIEFS',\n",
       " 'PROGRAM',\n",
       " 'RESOURCES',\n",
       " 'MISSION',\n",
       " 'VALUE',\n",
       " 'CORE']"
      ]
     },
     "execution_count": 4,
     "metadata": {},
     "output_type": "execute_result"
    }
   ],
   "source": [
    "urlkey = ['about', 'department', 'home', 'community', 'life', 'curriculum', 'hist', 'phil', 'academics', 'moral', 'focus', 'beliefs', 'program', 'resources', 'mission', 'value', 'core']\n",
    "urlkey = [s.upper() for s in urlkey]\n",
    "urlkey"
   ]
  },
  {
   "cell_type": "markdown",
   "metadata": {},
   "source": [
    "***Long story short we now parse through all of those links based on the key word search, and get a new list p which contains the url's we actually want***\n",
    "\n",
    "*Note:* look into children functions"
   ]
  },
  {
   "cell_type": "code",
   "execution_count": 5,
   "metadata": {
    "collapsed": false
   },
   "outputs": [
    {
     "name": "stdout",
     "output_type": "stream",
     "text": [
      "{'https://www.polk.edu/community/', 'https://www.polk.edu/lakeland-gateway-to-college-high-school/student-resources/', 'https://www.polk.edu/academics/', '/home', 'https://www.polk.edu/student-life/', '/people/department/lakeland-gateway-to-college-high-school/', 'https://www.polk.edu/about/', 'https://www.polk.edu/lakeland-gateway-to-college-high-school/about-us/'}\n",
      "8\n"
     ]
    }
   ],
   "source": [
    "p = []\n",
    "for k in l:\n",
    "    try:\n",
    "        #print(j)\n",
    "        j = k.upper()\n",
    "        for i in range(len(urlkey)):\n",
    "            if isinstance(j, list) and len(j) == 1:\n",
    "                j = j[0].split(urlkey[i])\n",
    "            elif isinstance(j, list) and len(j) > 1:\n",
    "                #print(j)\n",
    "                if requests.get(url + k):\n",
    "                    p.append(k)\n",
    "                    break\n",
    "            else:\n",
    "                #print(j)\n",
    "                j = j.split(urlkey[i])\n",
    "    except:\n",
    "        pass\n",
    "\n",
    "p += ['/home']\n",
    "for i in range(len(p)):\n",
    "    k = p[i].upper().split('FREQ')\n",
    "    m = p[i].upper().split('ADMI')\n",
    "    n = p[i].upper().split('TRUSTE')\n",
    "    o = p[i].upper().split('ALUM')\n",
    "    if len(k) > 1 or len(m) > 1 or len(n) > 1 or len(o) > 1:\n",
    "        p[i] = '/home'\n",
    "p = set(p)\n",
    "print(p)\n",
    "print(len(p))"
   ]
  },
  {
   "cell_type": "markdown",
   "metadata": {},
   "source": [
    "***Look at how much less websites we have and how relevant they all are to our scraping.***"
   ]
  },
  {
   "cell_type": "code",
   "execution_count": 6,
   "metadata": {
    "collapsed": false
   },
   "outputs": [
    {
     "name": "stdout",
     "output_type": "stream",
     "text": [
      "8\n"
     ]
    }
   ],
   "source": [
    "print(len(p))"
   ]
  },
  {
   "cell_type": "markdown",
   "metadata": {},
   "source": [
    "***Now we create a dictionary to for us to store our relevant texts into into their respective categories***"
   ]
  },
  {
   "cell_type": "code",
   "execution_count": 7,
   "metadata": {
    "collapsed": false
   },
   "outputs": [
    {
     "data": {
      "text/plain": [
       "{'curriculum': [],\n",
       " 'history': [],\n",
       " 'mission': [],\n",
       " 'organizational_factors': [],\n",
       " 'philosophy': [],\n",
       " 'resources': [],\n",
       " 'target': []}"
      ]
     },
     "execution_count": 7,
     "metadata": {},
     "output_type": "execute_result"
    }
   ],
   "source": [
    "centroidmodel = {'mission' : [], 'curriculum': [], 'philosophy' : [], 'history' : [], 'target' : [], 'resources' : [], 'organizational_factors' : []}\n",
    "centroidmodel"
   ]
  },
  {
   "cell_type": "markdown",
   "metadata": {
    "collapsed": false
   },
   "source": [
    "***Now we create a keyword search relevant to each category***\n",
    "\n",
    "*Note:* the key words are subject to change"
   ]
  },
  {
   "cell_type": "code",
   "execution_count": 8,
   "metadata": {
    "collapsed": false
   },
   "outputs": [],
   "source": [
    "idk = ['advantage']\n",
    "mission = [' vision ', 'our purpose', 'cause', 'objectives', ' mission', 'vision:', 'mission:']\n",
    "mission = [s.upper() for s in mission]\n",
    "curriculum = [ 'program', 'methods', 'pedagogy', 'approach', 'model', 'curriculum', 'academics', 'degree']\n",
    "curriculum = [s.upper() for s in curriculum]\n",
    "philosophy = ['beliefs', 'principles', 'creed', 'values', 'philosophy', 'moral']\n",
    "philosophy = [s.upper() for s in philosophy]\n",
    "history = ['story', 'background', 'founded', 'established']\n",
    "history = [s.upper() for s in history]\n",
    "target = ['gifted', 'at-risk', 'ethnic background', 'target population', 'target audience']\n",
    "target = [s.upper() for s in target]\n",
    "resources = ['ESL', 'tutoring', 'after-school programs', 'available resources', 'services', 'opportunities', 'opportunity']\n",
    "resources = [s.upper() for s in resources]\n",
    "orgfactor = ['statistics', 'API', 'environment', 'ratio', 'average', 'female', 'fund', 'community'  ]\n",
    "orgfactor = [s.upper() for s in orgfactor]"
   ]
  },
  {
   "cell_type": "markdown",
   "metadata": {},
   "source": [
    "***We create a mapper function to map the text which we parse through into its relevant category in the dictionary***"
   ]
  },
  {
   "cell_type": "code",
   "execution_count": 9,
   "metadata": {
    "collapsed": false
   },
   "outputs": [],
   "source": [
    "def searchText(keywordList, passage):\n",
    "    numOfKeywords = 0\n",
    "    for i in range(len(keywordList)):\n",
    "        if keywordList[i] in passage: numOfKeywords = numOfKeywords + 1\n",
    "    return numOfKeywords\n",
    "def searchTextForNumbers(passage):\n",
    "    numOfYears = 0\n",
    "    passage = passage + 'a'\n",
    "    currentNumber = '0'\n",
    "    for char in passage:\n",
    "        try:\n",
    "            int(char)\n",
    "            currentNumber += char\n",
    "        except:\n",
    "            currentNumber = int(currentNumber)\n",
    "            if isYear(currentNumber):\n",
    "                numOfYears=numOfYears + 1\n",
    "            currentNumber = '0'\n",
    "    return numOfYears\n",
    "def isYear(number):\n",
    "    if number >= 1900 and number <=2012:\n",
    "        return True\n",
    "    return False\n",
    "def mapper(txt):\n",
    "    print(txt.upper())\n",
    "    text = txt.upper()\n",
    "    bufferText = text\n",
    "    weight = searchText(mission,bufferText)\n",
    "    if (weight): centroidmodel['mission'] += [(txt,weight)]\n",
    "    bufferText = text\n",
    "    weight = searchText(curriculum,bufferText)\n",
    "    if (weight): centroidmodel['curriculum'] += [(txt,weight)]\n",
    "    bufferText = text\n",
    "    weight = searchText(philosophy,bufferText)\n",
    "    if (weight): centroidmodel['philosophy'] += [(txt,weight)]\n",
    "    bufferText = text\n",
    "    weight = searchText(history,bufferText) + searchTextForNumbers(bufferText)\n",
    "    if (weight): centroidmodel['history'] += [(txt,weight)]\n",
    "    bufferText = text\n",
    "    weight = searchText(target,bufferText)\n",
    "    if (weight): centroidmodel['target'] += [(txt,weight)]\n",
    "    bufferText = text\n",
    "    weight = searchText(resources,bufferText)\n",
    "    if (weight): centroidmodel['resources'] += [(txt,weight)]\n",
    "    bufferText = text\n",
    "    weight = searchText(orgfactor,bufferText)\n",
    "    if (weight): centroidmodel['organizational_factors'] += [(txt,weight)]\n",
   ]
  },
  {
   "cell_type": "markdown",
   "metadata": {},
   "source": [
    "***Now we parse through all the text in all relevant webpages***\n",
    "\n",
    "We can also see all the text parsed through from all the webpages"
   ]
  },
  {
   "cell_type": "code",
   "execution_count": 14,
   "metadata": {
    "collapsed": false
   },
   "outputs": [
    {
     "name": "stdout",
     "output_type": "stream",
     "text": [
      " \n",
      " FROM ITS FOUNDING BACK IN 1964, POLK STATE COLLEGE HAS BEEN PROFOUNDLY FOCUSED ON THE NEEDS OF THE COMMUNITIES IT SERVES. MOST OF OUR STUDENTS LIVE IN POLK COUNTY, AND MOST OF THEM WILL LIVE AND WORK HERE AFTER THEY GRADUATE. MOST OF OUR FACULTY AND STAFF CALL POLK COUNTY HOME, AND MANY OF THE VENDORS WITH WHOM WE PARTNER ARE LOCAL FIRMS.\n",
      " AT POLK STATE THE DOORS ARE ALWAYS OPEN — TO STUDENTS, OF COURSE, BUT ALSO THE COMMUNITY AS A WHOLE.\n",
      " THROUGHOUT THE YEAR, POLK STATE HOSTS A DIVERSE SLATE OF SPECIAL EVENTS AND PROGRAMS, FROM CONCERTS TO LECTURES TO SUMMER CAMPS. IT’S THE COLLEGE’S WAY OF EXTENDING THE LEARNING THAT HAPPENS IN ITS CLASSROOMS, CREATING A DESTINATION FOR ANYONE INTERESTED IN DEEPER KNOWLEDGE, NEW EXPERIENCES, OR JUST A LITTLE FUN.\n",
      " CHECK THE POLK STATE CALENDAR REGULARLY FOR DETAILS ON UPCOMING EVENTS.\n",
      " THERE WERE DAYS WHEN A 6-YEAR-OLD LEONEL NAVARRETE, NEW TO THE U.S. AND SURROUNDED BY ENGLISH-SPEAKING CLASSMATES, FELT LONELY.\n",
      "\n",
      "THERE WERE…\n",
      " POLK STATE COLLEGE\n",
      " \n",
      "WINTER HAVEN · LAKELAND\n",
      "BARTOW · LAKE WALES\n",
      "\n",
      " (863) 297-1000\n",
      " © 2017 POLK STATE COLLEGE. ALL RIGHTS RESERVED.\n",
      "\t\n",
      "SITEMAP\n",
      "PRIVACY POLICY\n",
      "DISCLAIMER\n",
      "EQUITY & DIVERSITY\n",
      "CAREERS\n",
      "COURSE CATALOG\n",
      "INTRANET\n",
      "\n",
      "\n",
      " POLK STATE COLLEGE\n",
      " \n",
      "WINTER HAVEN · LAKELAND\n",
      "BARTOW · LAKE WALES\n",
      "\n",
      " (863) 297-1000\n",
      " © 2017 POLK STATE COLLEGE. ALL RIGHTS RESERVED.\n",
      "\t\n",
      "SITEMAP\n",
      "PRIVACY POLICY\n",
      "DISCLAIMER\n",
      "EQUITY & DIVERSITY\n",
      "CAREERS\n",
      "COURSE CATALOG\n",
      "INTRANET\n",
      "\n",
      "\n",
      " POLK STATE COLLEGE IS PROUD TO BE PART OF FUSE, A PROGRAM IN PARTNERSHIP WITH THE UNIVERSITY OF SOUTH FLORIDA THAT PROVIDES ELIGIBLE POLK STATE STUDENTS WITH GUARANTEED ADMISSION TO A USF SYSTEM INSTITUTION UPON THE SUCCESSFUL COMPLETION OF AN ASSOCIATE IN ARTS DEGREE. THIS PROGRAM IS FOR STUDENTS WHO ARE STARTING AT POLK STATE JUST OUT OF HIGH SCHOOL, AND THOSE THAT APPLIED TO A USF SYSTEM INSTITUTION AND WERE NOT IMMEDIATELY ADMITTED. STUDENTS WHO PARTICIPATE IN FUSE WILL:\n",
      " FOR MORE INFORMATION ABOUT FUSE, PLEASE CONTACT A POLK STATE ACADEMIC ADVISOR OR CLICK HERE.\n",
      " POLK STATE COLLEGE OFFERS A VARIETY OF DEGREES AND WORKFORCE CERTIFICATES TO PREPARE STUDENTS FOR FUTURE SUCCESS.\n",
      " THE COLLEGE OFFERS SIX BACHELOR’S DEGREES — THE BACHELOR OF APPLIED SCIENCE IN SUPERVISION AND MANAGEMENT, BACHELOR OF SCIENCE IN CRIMINAL JUSTICE,  BACHELOR OF SCIENCE IN NURSING, BACHELOR OF SCIENCE IN AEROSPACE SCIENCES,  BACHELOR OF SCIENCE IN EARLY CHILDHOOD EDUCATION, AND BACHELOR OF SCIENCE IN ELEMENTARY EDUCATION — TO ALLOW STUDENTS TO GAIN ADVANCED TRAINING RIGHT HERE IN POLK COUNTY.  \n",
      "\n",
      " POLK STATE ALSO OFFERS THE ASSOCIATE IN SCIENCE DEGREE FOR THOSE WHO SEEK TO ENTER THE WORKFORCE IMMEDIATELY AFTER COMPLETING THEIR EDUCATION, AND THE ASSOCIATE IN ARTS DEGREE FOR THOSE SEEKING TO CONTINUE THEIR STUDIES AT A FOUR-YEAR INSTITUTION.\n",
      " WORKFORCE CERTIFICATES ARE ALSO AVAILABLE FOR THOSE WHO WANT TO GAIN NEW SKILLS, GIVING THEM A COMPETITIVE EDGE IN THE WORKFORCE.\n",
      " ALL OF POLK STATE’S DEGREE PROGRAMS ARE DESIGNED TO MEET THE NEEDS OF ITS COMMUNITY, POSITIONING STUDENTS TO BE HIRED WHEN THEY GRADUATE OR TO SUCCEED AT THE NEXT LEVEL OF EDUCATION.\n",
      " META-MAJORS ARE ACADEMIC PATHWAYS FOR PROGRAMS AND DEGREES WITH SIMILAR GENERAL EDUCATION REQUIREMENTS THAT LEAD TO SIMILAR CAREERS.  STUDENTS WHO ARE NOT SURE WHAT DEGREE  TO PURSUE CAN USE A META-MAJOR PATHWAY TO SELECT THE APPROPRIATE GENERAL EDUCATION COURSES.  STUDENTS ARE RECOMMENDED TO SEE AN ADVISOR OR ATTEND A CAREER EXPLORATIONS WORKSHOP.  FOR MORE INFORMATION ON META-MAJORS, CLICK HERE.\n",
      " THE DIFFERENCE POLK STATE COLLEGE MAKES IN THE LIVES OF ITS STUDENTS IS OFTEN EXPRESSED IN NUMBERS:\n",
      "\n",
      "AT $112 PER CREDIT…\n",
      " POLK STATE COLLEGE\n",
      " \n",
      "WINTER HAVEN · LAKELAND\n",
      "BARTOW · LAKE WALES\n",
      "\n",
      " (863) 297-1000\n",
      " © 2017 POLK STATE COLLEGE. ALL RIGHTS RESERVED.\n",
      "\t\n",
      "SITEMAP\n",
      "PRIVACY POLICY\n",
      "DISCLAIMER\n",
      "EQUITY & DIVERSITY\n",
      "CAREERS\n",
      "COURSE CATALOG\n",
      "INTRANET\n",
      "\n",
      "\n",
      " POLK’S HEALTH SCIENCES PROGRAMS LEAD THE STATE IN TEST SCORES, JOB PLACEMENTS. \n",
      " TO SIT WITH HIM NOW, AS HE EXCITEDLY CHATTERS ABOUT HIS CLUB INVOLVEMENT AND HIS PLANS FOR STARTING A BUSINESS,…\n",
      " CONGRATULATIONS TO FRIEND AND SUPPORTER STAN PHELPS, MADE AN HONORARY DEPUTY TODAY BY SHERIFF JUDD..#WEAREPOLK HTTPS://T.CO/8EQHD8YUMI\n",
      " HEY EAGLES…CHECK OUT WHAT'S OPEN AND CLOSED THE WEEK OF SPRING BREAK! HTTPS://T.CO/FIZOHX8PYR\n",
      " SHARING ABOUT MICROPLASTICS AND RECYCLING…EAGLES CHANGING THE WORLD! HTTPS://T.CO/3CJDU7GO2N\n",
      " STUDENTS FROM CHAIN OF LAKES COLLEGIATE ARE GETTING READY TO WOW SOME ELEMENTARY KIDS..#SOAREAGLES! HTTPS://T.CO/W5LQODT5C8\n",
      " THE FUTURE IS HERE! AMAZING STUDENTS COMPETING AT THE FIRST LEGO LEAGUE REGIONAL CHAMPIONSHIPS HERE TODAY!… HTTPS://T.CO/FOSNKLCWKH\n",
      " POLK STATE COLLEGE\n",
      " \n",
      "WINTER HAVEN · LAKELAND\n",
      "BARTOW · LAKE WALES\n",
      "\n",
      " (863) 297-1000\n",
      " © 2017 POLK STATE COLLEGE. ALL RIGHTS RESERVED.\n",
      "\t\n",
      "SITEMAP\n",
      "PRIVACY POLICY\n",
      "DISCLAIMER\n",
      "EQUITY & DIVERSITY\n",
      "CAREERS\n",
      "COURSE CATALOG\n",
      "INTRANET\n",
      "\n",
      "\n",
      " THE HEART OF STUDENT LIFE AT POLK STATE IS YOUR  STUDENT ACTIVITIES AND LEADERSHIP OFFICE — BETTER KNOWN AS “SALO.” SALO IS BASED ON THE LAKELAND AND WINTER HAVEN CAMPUSES AND THE JDA CENTER IN LAKE WALES.  ONE OF SALO’S PRIMARY GOALS IS TO MAKE SURE THAT STUDENT LIFE IS POLKTASTIC FOR EACH OF POLK STATE’S STUDENTS, WHICHEVER COLLEGE LOCATION THEY CONSIDER TO BE “HOME BASE.” YOUR STUDENT LIFE AT POLK STATE IS WHAT YOU MAKE OF IT, AND SALO IS THE PLACE TO START YOUR ADVENTURE…\n",
      " \n",
      " POLK STATE OFFERS THE ADVANTAGES OF INTIMATE CAMPUS LIFE YOU MIGHT EXPECT FROM A SMALL COLLEGE — BUT HAS A WIDE RANGE OF OPPORTUNITIES AND SERVICES THAT ARE ONLY POSSIBLE WITH AN INSTITUTION THAT SERVES OVER 20,000 STUDENTS EACH YEAR.\n",
      " NO MATTER IF YOU’RE INTO THE ENVIRONMENT OR SALSA DANCING, THERE IS A POLK STATE STUDENT CLUB OR ORGANIZATION FOR YOU. THE COLLEGE OFFERS DOZENS OF STUDENT LIFE OPPORTUNITIES — ALL YOU HAVE TO DO IS JOIN. DON’T SEE WHAT YOU’RE LOOKING FOR? CONTACT YOUR CAMPUS STUDENT ACTIVITIES AND LEADERSHIP OFFICE (SALO) FOR INFORMATION ON HOW TO START A NEW CLUB.\n",
      " YOUR OPINION COUNTS WITH US. WE STRIVE TO GIVE YOU EXCELLENT CUSTOMER SERVICE.  PLEASE LET US KNOW HOW WE ARE DOING BY SHARING YOUR EXPERIENCE WITH US THROUGH THE ELECTRONIC COMMENT BOX.\n",
      " IT’S A WEEKDAY MORNING AND YULONDA BELL HAS AGREED TO BE INTERVIEWED ABOUT HER NEW POSITION AS POLK STATE WINTER…\n",
      " POLK STATE COLLEGE\n",
      " \n",
      "WINTER HAVEN · LAKELAND\n",
      "BARTOW · LAKE WALES\n",
      "\n",
      " (863) 297-1000\n",
      " © 2017 POLK STATE COLLEGE. ALL RIGHTS RESERVED.\n",
      "\t\n",
      "SITEMAP\n",
      "PRIVACY POLICY\n",
      "DISCLAIMER\n",
      "EQUITY & DIVERSITY\n",
      "CAREERS\n",
      "COURSE CATALOG\n",
      "INTRANET\n",
      "\n",
      "\n",
      "  \n",
      " \n",
      " POLK STATE LAKELAND GATEWAY TO COLLEGE COLLEGIATE HIGH SCHOOL IS AN EXCITING NEW OPPORTUNITY FOR AREA STUDENTS, TYPICALLY BETWEEN THE AGES OF 16 AND 21, WHO HAVE EARNED 45% OF THE CREDITS REQUIRED FOR HIGH SCHOOL GRADUATION.  ALL COURSES ARE TAUGHT ON THE POLK STATE LAKELAND CAMPUS AND OFFERED DURING MORNING AND AFTERNOON HOURS, TO PROVIDE STUDENTS WITH MAXIMUM FLEXIBILITY AND OPPORTUNITY FOR SUCCESS. THE SCHOOL IS FUNDED IN PART THROUGH A GRANT FROM THE GATEWAY TO COLLEGE NATIONAL NETWORK.\n",
      " IF YOU WOULD LIKE TO SUPPORT POLK STATE LAKELAND GATEWAY TO COLLEGE COLLEGIATE HIGH SCHOOL, CLICK HERE TO\n",
      " \n",
      "  \n",
      " POLK STATE COLLEGE\n",
      " \n",
      "WINTER HAVEN · LAKELAND\n",
      "BARTOW · LAKE WALES\n",
      "\n",
      " (863) 297-1000\n",
      " © 2017 POLK STATE COLLEGE. ALL RIGHTS RESERVED.\n",
      "\t\n",
      "SITEMAP\n",
      "PRIVACY POLICY\n",
      "DISCLAIMER\n",
      "EQUITY & DIVERSITY\n",
      "CAREERS\n",
      "COURSE CATALOG\n",
      "INTRANET\n",
      "\n",
      "\n",
      " STUDENTS SERVED: 23,755\n",
      " DEGREE-SEEKING STUDENTS: 15,755\n",
      " AVERAGE AGE: 25.4\n",
      " 61% FEMALE / 36% MALE\n",
      " 77% PART-TIME / 23% FULL-TIME\n",
      " POLK COUNTY RESIDENTS: 73.4%\n",
      " \n",
      " POLK STATE COLLEGE, ESTABLISHED IN 1964, IS A MULTI-CAMPUS INSTITUTION SERVING OVER 20,000 STUDENTS WITH BACHELOR OF APPLIED SCIENCE, BACHELOR OF SCIENCE, ASSOCIATE IN ARTS AND  ASSOCIATE IN SCIENCE DEGREES, AS WELL AS A WIDE RANGE OF CERTIFICATE AND WORKFORCE TRAINING OPTIONS. THE COLLEGE ALSO OPERATES THREE CHARTER HIGH SCHOOLS.\n",
      " POLK STATE’S ADVANTAGES INCLUDE SMALL CLASS SIZES; HANDS-ON LEARNING; DEDICATED FACULTY; DAY AND NIGHT CLASSES; ONLINE OPTIONS; AFFORDABLE TUITION; EXCELLENT FINANCIAL AID; A DIVERSE COMMUNITY AND VIBRANT STUDENT LIFE, INCLUDING FINE ARTS OPPORTUNITIES, CLUBS, AND INTERCOLLEGIATE ATHLETICS.\n",
      " WE ARE THE PERFECT PLACE TO SOAR. WE ARE POLK.\n",
      "  \n",
      " POLK STATE ARTS STUDENTS GET THE SKILLS TO TURN THEIR PASSIONS INTO CAREERS.\n",
      " THERE’S A KIND OF LIGHT THAT RADIATES FROM STUDENT ALEX URIBE, A GENUINE DESIRE TO DO SOMETHING GOOD IN THIS…\n",
      " POLK STATE COLLEGE\n",
      " \n",
      "WINTER HAVEN · LAKELAND\n",
      "BARTOW · LAKE WALES\n",
      "\n",
      " (863) 297-1000\n",
      " © 2017 POLK STATE COLLEGE. ALL RIGHTS RESERVED.\n",
      "\t\n",
      "SITEMAP\n",
      "PRIVACY POLICY\n",
      "DISCLAIMER\n",
      "EQUITY & DIVERSITY\n",
      "CAREERS\n",
      "COURSE CATALOG\n",
      "INTRANET\n",
      "\n",
      "\n",
      " THE MISSION OF POLK STATE LAKELAND GATEWAY TO COLLEGE COLLEGIATE HIGH SCHOOL, IS TO PROVIDE AN ACADEMIC CHARTER ALTERNATIVE FOR JUNIORS AND SENIORS TRANSITIONING TO COLLEGE.\n",
      " VISION STATEMENT: ALL GHS ENROLLEES WILL GRADUATE FROM HIGH SCHOOL AND COLLEGE AND BECOME SELF-ACTUALIZED CITIZENS AND SUCCESSFUL LEADERS IN THEIR COMMUNITIES.\n",
      " THIS PUBLIC CHARTER SCHOOL REPRESENTS AN EXCITING NEW OPPORTUNITY FOR LOCAL AREA STUDENTS WHO HAVE EARNED 45% OF THE CREDITS REQUIRED FOR HIGH SCHOOL GRADUATION, PROVIDING STUDENTS WITH MAXIMUM FLEXIBILITY AND OPPORTUNITY FOR SUCCESS. THE SCHOOL WAS FUNDED IN PART THROUGH A GRANT FROM THE GATEWAY TO COLLEGE NATIONAL NETWORK.\n",
      " QUICK FACTS ABOUT POLK STATE LAKELAND GATEWAY TO COLLEGE COLLEGIATE HIGH SCHOOL:\n",
      " POLK STATE LAKELAND GATEWAY TO COLLEGE COLLEGIATE HIGH SCHOOL\n",
      "3425 WINTER LAKE ROAD – STATION 80\n",
      "LAKELAND, FLORIDA 33803\n",
      " 863.669.2923\n",
      " HOURS\n",
      "SCHOOL HOURS: 8:00 A.M. – 2:05 P.M. (WITH BUS TRANSPORTATION)\n",
      "OFFICE HOURS: 7:30 A.M. – 4:30 P.M.\n",
      " MR. COREY BARNES IS THE PARENTAL INVOLVEMENT REPRESENTATIVE FOR POLK STATE LAKELAND GATEWAY TO COLLEGE HIGH SCHOOL. MR. BARNES CAN BE REACHED AT 863-669-2923 OR CBARNES@POLK.EDU \n",
      " SCHOOL GRADE FOR THE 2015-16 SCHOOL YEAR IS = N/A\n",
      " SCHOOL CALENDAR 2016-2017\n",
      " LIKE US ON FACEBOOK AT: HTTPS://WWW.FACEBOOK.COM/POLKSTATEGATEWAY\n",
      " \n",
      "  \n",
      " JOIN US ON REMIND AT: HTTPS://WWW.REMIND.COM/JOIN/9E86H\n",
      " \n",
      "  \n",
      "  \n",
      "  \n",
      " POLK STATE COLLEGE\n",
      " \n",
      "WINTER HAVEN · LAKELAND\n",
      "BARTOW · LAKE WALES\n",
      "\n",
      " (863) 297-1000\n",
      " © 2017 POLK STATE COLLEGE. ALL RIGHTS RESERVED.\n",
      "\t\n",
      "SITEMAP\n",
      "PRIVACY POLICY\n",
      "DISCLAIMER\n",
      "EQUITY & DIVERSITY\n",
      "CAREERS\n",
      "COURSE CATALOG\n",
      "INTRANET\n",
      "\n",
      "\n"
     ]
    }
   ],
   "source": [
    "for link in p:\n",
    "    q = requests.get(url + link)\n",
    "    k = q.text\n",
    "    s = BeautifulSoup(k, \"lxml\")\n",
    "    j = s.find_all('p')\n",
    "    for lin in j:\n",
    "        k = str(lin)\n",
    "        if lin.get('class') == None and lin.get('a') == None and len(k.split('|')) == 1:\n",
    "            mapper(' ' + lin.get_text())\n",
    " "
   ]
  },
  {
   "cell_type": "markdown",
   "metadata": {},
   "source": [
    "***Get rid of repeated values***"
   ]
  },
  {
   "cell_type": "code",
   "execution_count": 15,
   "metadata": {
    "collapsed": false
   },
   "outputs": [],
   "source": [
    "def tupleSortKey(tup):\n",
    "    return tup[1]\n",
    "for dictKey in centroidmodel:\n",
    "    centroidmodel[dictKey].sort(key=tupleSortKey, reverse=True)\n",
   ]
  },
  {
   "cell_type": "markdown",
   "metadata": {},
   "source": [
    "***Voila we have our data***"
   ]
  },
  {
   "cell_type": "code",
   "execution_count": 18,
   "metadata": {
    "collapsed": false
   },
   "outputs": [
    {
     "name": "stdout",
     "output_type": "stream",
     "text": [
      "{'curriculum': {' Throughout the year, Polk State hosts a diverse slate of special events and programs, from concerts to lectures to summer camps. It’s the College’s way of extending the learning that happens in its classrooms, creating a destination for anyone interested in deeper knowledge, new experiences, or just a little fun.', ' Polk State also offers the Associate in Science degree for those who seek to enter the workforce immediately after completing their education, and the Associate in Arts degree for those seeking to continue their studies at a four-year institution.', ' All of Polk State’s degree programs are designed to meet the needs of its community, positioning students to be hired when they graduate or to succeed at the next level of education.', ' Polk State College is proud to be part of FUSE, a program in partnership with the University of South Florida that provides\\xa0eligible Polk State students with guaranteed admission to a USF System institution upon the successful completion of an associate in arts degree. This program is for students who are starting at Polk State just out of high school, and those that applied to\\xa0a USF System institution and were not immediately admitted.\\xa0Students who participate in FUSE\\xa0will:', ' Polk State College, established in 1964, is a multi-campus institution serving over 20,000 students with Bachelor of Applied Science, Bachelor of Science, Associate in Arts and \\xa0Associate in Science degrees, as well as a wide range of certificate and workforce training options. The College also operates three charter high schools.', ' Polk’s Health Sciences programs lead the state in test scores, job placements. ', ' The College offers six\\xa0bachelor’s degrees — the Bachelor of Applied Science in Supervision and Management, Bachelor of Science in Criminal Justice, \\xa0Bachelor of Science in Nursing,\\xa0Bachelor of Science in Aerospace Sciences, \\xa0Bachelor of Science in Early Childhood Education, and Bachelor of Science in Elementary Education\\xa0— to allow students to gain advanced training right here in Polk County. \\xa0\\n', ' Degree-seeking Students:\\xa015,755', ' Polk State College offers a variety of degrees and workforce certificates to prepare students for future success.', ' Meta-majors are academic pathways for programs and degrees with similar General Education requirements that lead to similar careers.\\xa0 Students who are not sure what degree\\xa0 to\\xa0pursue can use a meta-major pathway to select\\xa0the appropriate General Education courses.\\xa0 Students are recommended to see an advisor or attend a Career Explorations workshop.\\xa0 For more information on meta-majors, click here.'}, 'target': set(), 'resources': {' This public charter school represents an exciting new opportunity for local area students who have earned 45% of the credits required for high school graduation, providing students with maximum flexibility and opportunity for success. The school was funded in part through a grant from the Gateway to College National Network.', ' Polk State Lakeland Gateway to College Collegiate High School is an exciting new opportunity for area students, typically between the ages of 16 and 21, who have earned 45% of the credits required for high school graduation. \\xa0All courses are taught on the Polk State Lakeland campus and offered during morning and afternoon hours, to provide students with maximum flexibility and opportunity for success. The school is funded in part through a grant from the Gateway to College National Network.', ' Polk State’s advantages include small class sizes; hands-on learning; dedicated faculty; day and night classes; online options; affordable tuition; excellent financial aid; a diverse community and vibrant student life, including fine arts opportunities, clubs, and intercollegiate athletics.', ' Polk State offers the advantages of\\xa0intimate campus life you might expect from a small college — but has a wide range of opportunities and services that are only possible with an institution that serves over 20,000 students each year.', ' No matter if you’re into the environment or salsa dancing, there is a Polk State student club or organization for you. The College offers dozens of student life opportunities — all you have to do is join. Don’t see what you’re looking for? Contact your campus Student Activities and Leadership Office (SALO) for information on how to start a new club.'}, 'mission': {' Vision Statement:\\xa0All GHS enrollees will graduate from high school and college and become self-actualized citizens and successful leaders in their communities.', ' The mission of Polk State Lakeland Gateway to College Collegiate High School, is to provide an\\xa0academic charter alternative for juniors and seniors transitioning to college.'}, 'organizational_factors': {' All of Polk State’s degree programs are designed to meet the needs of its community, positioning students to be hired when they graduate or to succeed at the next level of education.', ' No matter if you’re into the environment or salsa dancing, there is a Polk State student club or organization for you. The College offers dozens of student life opportunities — all you have to do is join. Don’t see what you’re looking for? Contact your campus Student Activities and Leadership Office (SALO) for information on how to start a new club.', ' 61% Female /\\xa036% Male', ' At Polk State the doors are always open — to students, of course, but also the community as a whole.', ' Polk State’s advantages include small class sizes; hands-on learning; dedicated faculty; day and night classes; online options; affordable tuition; excellent financial aid; a diverse community and vibrant student life, including fine arts opportunities, clubs, and intercollegiate athletics.', ' Meta-majors are academic pathways for programs and degrees with similar General Education requirements that lead to similar careers.\\xa0 Students who are not sure what degree\\xa0 to\\xa0pursue can use a meta-major pathway to select\\xa0the appropriate General Education courses.\\xa0 Students are recommended to see an advisor or attend a Career Explorations workshop.\\xa0 For more information on meta-majors, click here.', ' Polk State Lakeland Gateway to College Collegiate High School is an exciting new opportunity for area students, typically between the ages of 16 and 21, who have earned 45% of the credits required for high school graduation. \\xa0All courses are taught on the Polk State Lakeland campus and offered during morning and afternoon hours, to provide students with maximum flexibility and opportunity for success. The school is funded in part through a grant from the Gateway to College National Network.', ' Average Age:\\xa025.4', ' This public charter school represents an exciting new opportunity for local area students who have earned 45% of the credits required for high school graduation, providing students with maximum flexibility and opportunity for success. The school was funded in part through a grant from the Gateway to College National Network.'}, 'history': {' From its founding back in 1964, Polk State College has been profoundly focused on the needs of the communities it serves. Most of our students live in Polk County, and most of them will live and work here after they graduate. Most of our faculty and staff call Polk County home, and many of the vendors with whom we partner are local firms.', ' Polk State College, established in 1964, is a multi-campus institution serving over 20,000 students with Bachelor of Applied Science, Bachelor of Science, Associate in Arts and \\xa0Associate in Science degrees, as well as a wide range of certificate and workforce training options. The College also operates three charter high schools.'}, 'philosophy': set()}\n"
     ]
    }
   ],
   "source": [
    "print(centroidmodel)"
   ]
  },
  {
   "cell_type": "markdown",
   "metadata": {},
   "source": [
    "***How the data looks in the Categories (Examples)***"
   ]
  },
  {
   "cell_type": "code",
   "execution_count": 22,
   "metadata": {
    "collapsed": false
   },
   "outputs": [
    {
     "name": "stdout",
     "output_type": "stream",
     "text": [
      "{' Vision Statement:\\xa0All GHS enrollees will graduate from high school and college and become self-actualized citizens and successful leaders in their communities.', ' The mission of Polk State Lakeland Gateway to College Collegiate High School, is to provide an\\xa0academic charter alternative for juniors and seniors transitioning to college.'}\n"
     ]
    }
   ],
   "source": [
    "print(centroidmodel['mission'])"
   ]
  },
  {
   "cell_type": "code",
   "execution_count": 23,
   "metadata": {
    "collapsed": false
   },
   "outputs": [
    {
     "name": "stdout",
     "output_type": "stream",
     "text": [
      "{' Throughout the year, Polk State hosts a diverse slate of special events and programs, from concerts to lectures to summer camps. It’s the College’s way of extending the learning that happens in its classrooms, creating a destination for anyone interested in deeper knowledge, new experiences, or just a little fun.', ' Polk State also offers the Associate in Science degree for those who seek to enter the workforce immediately after completing their education, and the Associate in Arts degree for those seeking to continue their studies at a four-year institution.', ' All of Polk State’s degree programs are designed to meet the needs of its community, positioning students to be hired when they graduate or to succeed at the next level of education.', ' Polk State College is proud to be part of FUSE, a program in partnership with the University of South Florida that provides\\xa0eligible Polk State students with guaranteed admission to a USF System institution upon the successful completion of an associate in arts degree. This program is for students who are starting at Polk State just out of high school, and those that applied to\\xa0a USF System institution and were not immediately admitted.\\xa0Students who participate in FUSE\\xa0will:', ' Polk State College, established in 1964, is a multi-campus institution serving over 20,000 students with Bachelor of Applied Science, Bachelor of Science, Associate in Arts and \\xa0Associate in Science degrees, as well as a wide range of certificate and workforce training options. The College also operates three charter high schools.', ' Polk’s Health Sciences programs lead the state in test scores, job placements. ', ' The College offers six\\xa0bachelor’s degrees — the Bachelor of Applied Science in Supervision and Management, Bachelor of Science in Criminal Justice, \\xa0Bachelor of Science in Nursing,\\xa0Bachelor of Science in Aerospace Sciences, \\xa0Bachelor of Science in Early Childhood Education, and Bachelor of Science in Elementary Education\\xa0— to allow students to gain advanced training right here in Polk County. \\xa0\\n', ' Degree-seeking Students:\\xa015,755', ' Polk State College offers a variety of degrees and workforce certificates to prepare students for future success.', ' Meta-majors are academic pathways for programs and degrees with similar General Education requirements that lead to similar careers.\\xa0 Students who are not sure what degree\\xa0 to\\xa0pursue can use a meta-major pathway to select\\xa0the appropriate General Education courses.\\xa0 Students are recommended to see an advisor or attend a Career Explorations workshop.\\xa0 For more information on meta-majors, click here.'}\n"
     ]
    }
   ],
   "source": [
    "print(centroidmodel['curriculum'])"
   ]
  },
  {
   "cell_type": "code",
   "execution_count": null,
   "metadata": {
    "collapsed": true
   },
   "outputs": [],
   "source": []
  }
 ],
 "metadata": {
  "anaconda-cloud": {},
  "kernelspec": {
   "display_name": "Python [Root]",
   "language": "python",
   "name": "Python [Root]"
  },
  "language_info": {
   "codemirror_mode": {
    "name": "ipython",
    "version": 3
   },
   "file_extension": ".py",
   "mimetype": "text/x-python",
   "name": "python",
   "nbconvert_exporter": "python",
   "pygments_lexer": "ipython3",
   "version": "3.5.2"
  }
 },
 "nbformat": 4,
 "nbformat_minor": 2
}
