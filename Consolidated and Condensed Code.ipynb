{
 "cells": [
  {
   "cell_type": "markdown",
   "metadata": {},
   "source": [
    "# Trying to Condense Code"
   ]
  },
  {
   "cell_type": "markdown",
   "metadata": {},
   "source": [
    "This code opens a webpage and attempts to get every link from within it"
   ]
  },
  {
   "cell_type": "markdown",
   "metadata": {},
   "source": [
    "Problems with the below code: HTTPError 403\n",
    "\n",
    "Thao said that there was a work around for 403's"
   ]
  },
  {
   "cell_type": "code",
   "execution_count": 1,
   "metadata": {
    "collapsed": false
   },
   "outputs": [],
   "source": [
    "from bs4 import BeautifulSoup\n",
    "import urllib\n",
    "import re\n",
    " \n",
    "originalURL = 'https://www.polk.edu/lakeland-gateway-to-college-high-school/'\n",
    "html_page = urllib.request.urlopen('https://www.polk.edu/lakeland-gateway-to-college-high-school/about')\n",
    "\n",
    "soup = BeautifulSoup(html_page, \"lxml\")\n",
    "\n",
    "#Need to adjust parent URL to ensure that it can be used to filter the links in the page\n",
    "def getUsefulParentURL(parentURL):\n",
    "    #list of possible correct endings for the parentURL\n",
    "    possibleParentEnds = ['.org', '.edu', '.com']\n",
    "    \n",
    "    for end in possibleParentEnds:\n",
    "        #attempts to split parentURL by one of the endings\n",
    "        parentURLSplit = parentURL.split(end)\n",
    "        \n",
    "        #if the split is successful then the parentURL is reassigned to the string before the split + the ending\n",
    "        if len(parentURLSplit) > 1:\n",
    "            parentURL = parentURLSplit[0] + end\n",
    "            return parentURL\n",
    "        \n",
    "parentURL = getUsefulParentURL(originalURL)\n",
    "\n",
    "#Finds all links in the page that are within the website and not malformed by ensuring the parentURL is in the URL.\n",
    "def getUsefulLinks():\n",
    "    links = []\n",
    "    \n",
    "    if soup.find_all('a') != None:\n",
    "        for link in soup.find_all('a'):\n",
    "            if link != None and link.get('href') != None and parentURL in link.get('href'):\n",
    "                #print(link.get('href'))\n",
    "                links.append(link.get('href'))\n",
    "    links.append(originalURL)\n",
    "    return links\n",
    "\n",
    "#getUsefulLinks()"
   ]
  },
  {
   "cell_type": "markdown",
   "metadata": {},
   "source": [
    "This method goes through tags and extracts the text from useful tags based on keywords. Filters tags based on the tags in the correct tag list to leave out non-text elements."
   ]
  },
  {
   "cell_type": "code",
   "execution_count": 2,
   "metadata": {
    "collapsed": true
   },
   "outputs": [],
   "source": [
    "def findKeyWordTextNeighborTesterWithNameCheck(soup, keyWord):\n",
    "    searchTxt = ''\n",
    "    tagLst = []\n",
    "    correctName = ['p', 'li', 'table']\n",
    "    \n",
    "    #This loop goes through all the text in every tag. If the text contains a keyword, then it puts that text's tag in the\n",
    "    #tagLst.\n",
    "    for elem in soup(text=re.compile(keyWord)):\n",
    "        tagLst.append(elem.parent)\n",
    "    \n",
    "    #This loop goes through each tag and rips the text from that tag. If that tag is a header, then the text from the next \n",
    "    #useful tag is ripped instead. All text is saved in searchTxt\n",
    "    for tag in tagLst:\n",
    "        if 'h' in tag.name:\n",
    "            typeTag = type(soup.find('li'))\n",
    "            current = tag.next_sibling\n",
    "            while not isinstance(current, typeTag) and current.name not in correctName:\n",
    "                current = current.next_sibling\n",
    "            searchTxt = searchTxt + current.text\n",
    "        else:\n",
    "            if(tag.name in correctName):\n",
    "                searchTxt = searchTxt + tag.text\n",
    "            \n",
    "    return searchTxt"
   ]
  },
  {
   "cell_type": "markdown",
   "metadata": {},
   "source": [
    "This method applies the scraping method for each keyword in a list of keywords."
   ]
  },
  {
   "cell_type": "code",
   "execution_count": 3,
   "metadata": {
    "collapsed": false
   },
   "outputs": [],
   "source": [
    "def keyWordTextTester(keyWords, soup):\n",
    "    foundTxt = ''\n",
    "    \n",
    "    for keyWord in keyWords:\n",
    "        foundTxt = foundTxt + findKeyWordTextNeighborTesterWithNameCheck(soup, keyWord)\n",
    "    \n",
    "    return foundTxt"
   ]
  },
  {
   "cell_type": "markdown",
   "metadata": {},
   "source": [
    "Lists for keywords for each category"
   ]
  },
  {
   "cell_type": "code",
   "execution_count": 4,
   "metadata": {
    "collapsed": true
   },
   "outputs": [],
   "source": [
    "mission = [' vision ', 'Vision ', 'our purpose', ' cause ', ' objectives ', ' mission', ' vision: ', ' mission: ', 'Mission']\n",
    "\n",
    "curriculum = [ 'program', 'methods', 'pedagogy', 'approach', 'model', 'curriculum', 'academics', 'degree']\n",
    "\n",
    "philosophy = ['beliefs', 'principles', 'creed', 'Values', 'philosophy', 'moral']\n",
    "\n",
    "history = ['story', 'background', 'founded', 'established']\n",
    "\n",
    "target = ['gifted', 'at-risk', 'ethnic background', 'target population', 'target audience']\n",
    "\n",
    "resources = ['ESL', 'tutoring', 'after-school programs', 'available resources', 'services', 'opportunities', 'opportunity']\n",
    "\n",
    "orgfactor = ['statistics', 'API', 'environment', 'ratio', 'average', 'female', 'fund', 'community']"
   ]
  },
  {
   "cell_type": "markdown",
   "metadata": {},
   "source": [
    "Once we have the useful links we need to go loop through each one and parse that"
   ]
  },
  {
   "cell_type": "code",
   "execution_count": 9,
   "metadata": {
    "collapsed": false
   },
   "outputs": [
    {
     "name": "stdout",
     "output_type": "stream",
     "text": [
      "\n",
      "Polk State’s advantages include small class sizes; hands-on learning; dedicated faculty; day and night classes; online options; affordable tuition; excellent financial aid; a diverse community and vibrant student life, including fine arts opportunities, clubs, and intercollegiate athletics.\n",
      "Correspondence concerning admissions, student records, or registration may be addressed to:\n",
      "Meta-majors are academic pathways for programs and degrees with similar General Education requirements that lead to similar careers.  Students who are not sure what degree  to pursue can use a meta-major pathway to select the appropriate General Education courses.  Students are recommended to see an advisor or attend a Career Explorations workshop.  For more information on meta-majors, click here.All of Polk State’s degree programs are designed to meet the needs of its community, positioning students to be hired when they graduate or to succeed at the next level of education.\n",
      "No matter if you’re into the environment or salsa dancing, there is a Polk State student club or organization for you. The College offers dozens of student life opportunities — all you have to do is join. Don’t see what you’re looking for? Contact your campus Student Activities and Leadership Office (SALO) for information on how to start a new club.\n",
      "At Polk State the doors are always open — to students, of course, but also the community as a whole.\n",
      "\n",
      "\n",
      "\n",
      "\n",
      "\n",
      "Polk State’s advantages include small class sizes; hands-on learning; dedicated faculty; day and night classes; online options; affordable tuition; excellent financial aid; a diverse community and vibrant student life, including fine arts opportunities, clubs, and intercollegiate athletics.\n",
      "During its first semester of operation, the College served nearly 1,200 students —twice the number expected — and it has continued to grow ever since.Polk’s Public Safety students put themselves in harm’s way to protect our community.\n",
      "Summer is right around the corner- Priority registration begins April 3, with open registration beginning April 10. https://t.co/39rWUAYK1v\n",
      "The Polk State College President Screening Committee will begin a process to reduce the list of candidates to approximately 5 finalists for consideration by the Polk State College District Board of Trustees. The Screening Committee members were present at two community forums held earlier this year to hear about the desired attributes for the next Polk State College President. They will be asked to consider those comments as they narrow the field. Mark Turner, chairman of the committee and Vice Chair of the District Board of Trustees said, “I cannot stress enough how grateful we are to have the participation of the members of the screening committee in this very important process. I am confident that they will deliver to the Trustees an excellent slate of finalists who have the skills, experience and passion to take this College, and our county, to the next level of excellence.”The Polk State College President Screening Committee will begin a process to reduce the list of candidates to approximately 5 finalists for consideration by the Polk State College District Board of Trustees. The Screening Committee members were present at two community forums held earlier this year to hear about the desired attributes for the next Polk State College President. They will be asked to consider those comments as they narrow the field. Mark Turner, chairman of the committee and Vice Chair of the District Board of Trustees said, “I cannot stress enough how grateful we are to have the participation of the members of the screening committee in this very important process. I am confident that they will deliver to the Trustees an excellent slate of finalists who have the skills, experience and passion to take this College, and our county, to the next level of excellence.”\n",
      "Annually, the organization hosts regional leadership conventions that provide access to the best development training available. Workshops cover topics such as financial, interpersonal, and communication skills; successful interviewing tips; and other personal development subjects. As well, the conventions provide an environment in which members can recognize chapter work throughout the Florida region.Yael Sykes, an Education baccalaureate student and this year’s PTK Xi Pi President, is married with two children. Before venturing back to college, she naturally focused on her children and sometimes missed adult interaction. As well, she wanted to do more at Polk State than just attend classes; she wanted to contribute and belong. She found her place in PTK. After attending a meeting, she became more heavily involved in the group’s day-to-day operations, eventually becoming the group’s president.For the students, Phi Theta Kappa is much more than an honor society. Members have found a core group of friends who not only help one another, but act more like a community than a group of collegiate peers. For them, the organization is a network of new colleagues, friends, and yes– even family.For the Honors-in-Action Project, the Xi Pi Chapter were inspired to do more work in food equity by joining with area restaurants, grocers, and convenience stores to minimize food waste by donating unused food to area shelters and community groups. The project is early in its conception, but was recognized for its unique community approach and potential impact.Of the biggest accomplishments for both Phi Theta Kappa chapters at Polk State was nominating and submitting Dr. Eileen Holden for the Michael Bennett Lifetime Achievement Award. Retiring college presidents, campus chief executive officers, and state community college directors can be nominated by their respective chapters. Selections for the award are based on outstanding support provided to Phi Theta Kappa students over many years. Dr. Holden was announced as an award winner and will be honored at the international convention in Tennessee this April.For the students at Polk State, Phi Theta Kappa represents a place to belong and truly leave an impact during their college experience. Phi Theta Kappa is one of more than 50 clubs and organizations offered through the College’s Student Activities and Leadership Office (SALO). Activities and clubs such as PTK enhance students’ learning experience, add to the community, provide enjoyment, and create more opportunities for success in the future.\n",
      "\n",
      "\n",
      "\n",
      "Polk State’s advantages include small class sizes; hands-on learning; dedicated faculty; day and night classes; online options; affordable tuition; excellent financial aid; a diverse community and vibrant student life, including fine arts opportunities, clubs, and intercollegiate athletics.\n",
      "Correspondence concerning admissions, student records, or registration may be addressed to:\n",
      "Meta-majors are academic pathways for programs and degrees with similar General Education requirements that lead to similar careers.  Students who are not sure what degree  to pursue can use a meta-major pathway to select the appropriate General Education courses.  Students are recommended to see an advisor or attend a Career Explorations workshop.  For more information on meta-majors, click here.All of Polk State’s degree programs are designed to meet the needs of its community, positioning students to be hired when they graduate or to succeed at the next level of education.\n",
      "No matter if you’re into the environment or salsa dancing, there is a Polk State student club or organization for you. The College offers dozens of student life opportunities — all you have to do is join. Don’t see what you’re looking for? Contact your campus Student Activities and Leadership Office (SALO) for information on how to start a new club.\n",
      "At Polk State the doors are always open — to students, of course, but also the community as a whole.\n",
      "\n",
      "\n",
      "\n",
      "Polk’s Public Safety students put themselves in harm’s way to protect our community.\n",
      "\n",
      "In guidance with our Strategic Plan ensuring student success, the College recognizes its commitment to ensure that current and future students are not discriminated against and its obligation to ensure a bias free educational environment. Specific procedures for filing a complaint and resolving academic disputes are provided in Rule 4.26 Student Appeal/Complaint Policy. In addition, the College has appointed an Ombudsman on each campus to provide students with an opportunity to have an off-the-record discussion about student concerns. The role and responsibility of the Ombudsman does not replace the formal procedure process for filing any type of complaint.Vision\n",
      "Promote excellence and student success through innovation, community impact, and engagement.\n",
      "Polk State Lakeland Gateway to College Collegiate High School is an exciting new opportunity for area students, typically between the ages of 16 and 21, who have earned 45% of the credits required for high school graduation.  All courses are taught on the Polk State Lakeland campus and offered during morning and afternoon hours, to provide students with maximum flexibility and opportunity for success. The school is funded in part through a grant from the Gateway to College National Network.\n",
      "\n"
     ]
    }
   ],
   "source": [
    "links = getUsefulLinks()\n",
    "\n",
    "#this method takes a list of links and applies the scraping method to that list. \n",
    "#WARNING: this method may take a while since it goes through every link, give it time to run before terminating it.\n",
    "def mapURLs(links):\n",
    "    foundTxt = ''\n",
    "    for link in links:\n",
    "        new_page = urllib.request.urlopen(link)\n",
    "        new_soup = BeautifulSoup(new_page, \"lxml\")\n",
    "        foundTxt = foundTxt + keyWordTextTester(orgfactor, new_soup) + \"\\n\"\n",
    "    return foundTxt\n",
    "\n",
    "print(mapURLs(links))"
   ]
  },
  {
   "cell_type": "code",
   "execution_count": null,
   "metadata": {
    "collapsed": true
   },
   "outputs": [],
   "source": []
  }
 ],
 "metadata": {
  "kernelspec": {
   "display_name": "Python 3",
   "language": "python",
   "name": "python3"
  },
  "language_info": {
   "codemirror_mode": {
    "name": "ipython",
    "version": 3
   },
   "file_extension": ".py",
   "mimetype": "text/x-python",
   "name": "python",
   "nbconvert_exporter": "python",
   "pygments_lexer": "ipython3",
   "version": "3.6.0"
  }
 },
 "nbformat": 4,
 "nbformat_minor": 2
}
