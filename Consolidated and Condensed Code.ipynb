{
 "cells": [
  {
   "cell_type": "markdown",
   "metadata": {
    "deletable": true,
    "editable": true
   },
   "source": [
    "# Trying to Condense Code"
   ]
  },
  {
   "cell_type": "markdown",
   "metadata": {
    "deletable": true,
    "editable": true
   },
   "source": [
    "This code opens a webpage and attempts to get every link from within it"
   ]
  },
  {
   "cell_type": "markdown",
   "metadata": {
    "deletable": true,
    "editable": true
   },
   "source": [
    "Problems with the below code: HTTPError 403, useful information may be found on the pages of links (this can be implemented fairly easily but could increase run time dramatically), still need to handle pdf's \n",
    "\n",
    "Thao said that there was a work around for 403's??"
   ]
  },
  {
   "cell_type": "code",
   "execution_count": 2,
   "metadata": {
    "collapsed": false,
    "deletable": true,
    "editable": true
   },
   "outputs": [],
   "source": [
    "from bs4 import BeautifulSoup\n",
    "import urllib\n",
    "import re\n",
    " \n",
    "originalURL = 'https://www.lys.org/services/lighthouse-community-school/'\n",
    "html_page = urllib.request.urlopen(originalURL)\n",
    "\n",
    "soup = BeautifulSoup(html_page, \"lxml\")\n",
    "\n",
    "#Need to adjust parent URL to ensure that it can be used to filter the links in the page\n",
    "def getUsefulParentURL(parentURL):\n",
    "    #list of possible correct endings for the parentURL\n",
    "    possibleParentEnds = ['.org', '.edu', '.com']\n",
    "    \n",
    "    for end in possibleParentEnds:\n",
    "        #attempts to split parentURL by one of the endings\n",
    "        parentURLSplit = parentURL.split(end)\n",
    "        \n",
    "        #if the split is successful then the parentURL is reassigned to the string before the split + the ending\n",
    "        if len(parentURLSplit) > 1:\n",
    "            parentURL = parentURLSplit[0] + end\n",
    "            return parentURL\n",
    "        \n",
    "parentURL = getUsefulParentURL(originalURL)\n",
    "\n",
    "#Finds all links in the page that are within the website and not malformed by ensuring the parentURL is in the URL.\n",
    "def getUsefulLinks():\n",
    "    links = []\n",
    "    \n",
    "    if soup.find_all('a') != None:\n",
    "        for link in soup.find_all('a'):\n",
    "            if link != None and link.get('href') != None and parentURL in link.get('href'):\n",
    "                #print(link.get('href'))\n",
    "                links.append(link.get('href'))\n",
    "    links.append(originalURL)\n",
    "    return links\n",
    "\n",
    "#getUsefulLinks()"
   ]
  },
  {
   "cell_type": "markdown",
   "metadata": {
    "deletable": true,
    "editable": true
   },
   "source": [
    "This method goes through tags and extracts the text from useful tags based on keywords. Filters tags based on the tags in the correct tag list to leave out non-text elements."
   ]
  },
  {
   "cell_type": "code",
   "execution_count": 52,
   "metadata": {
    "collapsed": true,
    "deletable": true,
    "editable": true
   },
   "outputs": [],
   "source": [
    "def findKeyWordTextNeighborTesterWithNameCheck(soup, keyWord):\n",
    "    searchTxt = ''\n",
    "    tagLst = []\n",
    "    correctName = ['p', 'li', 'table']\n",
    "    \n",
    "    #This loop goes through all the text in every tag. If the text contains a keyword, then it puts that text's tag in the\n",
    "    #tagLst.\n",
    "    for elem in soup(text=re.compile(keyWord)):\n",
    "        tagLst.append(elem.parent)\n",
    "    \n",
    "    #This loop goes through each tag and rips the text from that tag. If that tag is a header, then the text from the next \n",
    "    #useful tag is ripped instead. All text is saved in searchTxt\n",
    "    for tag in tagLst:\n",
    "        if 'h' in tag.name:\n",
    "            typeTag = type(soup.find('li'))\n",
    "            current = tag.next_sibling\n",
    "            while current != None and  not isinstance(current, typeTag) and current.name not in correctName:\n",
    "                current = current.next_sibling\n",
    "            if current != None:\n",
    "                searchTxt = searchTxt + current.text\n",
    "        else:\n",
    "            if(tag.name in correctName):\n",
    "                searchTxt = searchTxt + tag.text\n",
    "            \n",
    "    return searchTxt"
   ]
  },
  {
   "cell_type": "markdown",
   "metadata": {
    "deletable": true,
    "editable": true
   },
   "source": [
    "This method applies the scraping method for each keyword in a list of keywords."
   ]
  },
  {
   "cell_type": "code",
   "execution_count": 53,
   "metadata": {
    "collapsed": false,
    "deletable": true,
    "editable": true
   },
   "outputs": [],
   "source": [
    "def keyWordTextTester(keyWords, soup):\n",
    "    foundTxt = ''\n",
    "    \n",
    "    for keyWord in keyWords:\n",
    "        foundTxt = foundTxt + findKeyWordTextNeighborTesterWithNameCheck(soup, keyWord)\n",
    "    \n",
    "    return foundTxt"
   ]
  },
  {
   "cell_type": "markdown",
   "metadata": {
    "deletable": true,
    "editable": true
   },
   "source": [
    "Lists for keywords for each category"
   ]
  },
  {
   "cell_type": "code",
   "execution_count": 54,
   "metadata": {
    "collapsed": true,
    "deletable": true,
    "editable": true
   },
   "outputs": [],
   "source": [
    "mission = [' vision ', 'Vision ', 'our purpose', ' cause ', ' objectives ', ' mission', ' vision: ', ' mission: ', 'Mission']\n",
    "\n",
    "curriculum = [ 'program', 'methods', 'pedagogy', 'approach', 'model', 'curriculum', 'academics', 'degree']\n",
    "\n",
    "philosophy = ['beliefs', 'principles', 'creed', 'Values', 'philosophy', 'moral']\n",
    "\n",
    "history = ['story', 'background', 'founded', 'established']\n",
    "\n",
    "target = ['gifted', 'at-risk', 'ethnic background', 'target population', 'target audience']\n",
    "\n",
    "resources = ['ESL', 'tutoring', 'after-school programs', 'available resources', 'services', 'opportunities', 'opportunity']\n",
    "\n",
    "orgfactor = ['statistics', 'API', 'environment', 'ratio', 'average', 'female', 'fund', 'community']"
   ]
  },
  {
   "cell_type": "markdown",
   "metadata": {
    "deletable": true,
    "editable": true
   },
   "source": [
    "Once we have the useful links we need to go loop through each one and parse that"
   ]
  },
  {
   "cell_type": "code",
   "execution_count": 55,
   "metadata": {
    "collapsed": false,
    "deletable": true,
    "editable": true
   },
   "outputs": [],
   "source": [
    "#this method takes a list of links and applies the scraping method to that list. \n",
    "#WARNING: this method may take a while since it goes through every link, give it time to run before terminating it.\n",
    "def mapURLs(links, keywords):\n",
    "    foundTxt = ''\n",
    "    for link in links:\n",
    "        new_page = urllib.request.urlopen(link)\n",
    "        new_soup = BeautifulSoup(new_page, \"lxml\")\n",
    "        foundTxt = foundTxt + keyWordTextTester(keywords, new_soup)\n",
    "    return foundTxt\n",
    "\n",
    "#print(mapURLs(links))"
   ]
  },
  {
   "cell_type": "raw",
   "metadata": {
    "deletable": true,
    "editable": true
   },
   "source": [
    "Creating a School Object"
   ]
  },
  {
   "cell_type": "code",
   "execution_count": 56,
   "metadata": {
    "collapsed": true,
    "deletable": true,
    "editable": true
   },
   "outputs": [],
   "source": [
    "school = {'mission' : [], 'curriculum': [], 'philosophy' : [], 'history' : [], 'target' : [], 'resources' : [],\n",
    "          'organizational_factors' : []}\n"
   ]
  },
  {
   "cell_type": "markdown",
   "metadata": {
    "deletable": true,
    "editable": true
   },
   "source": [
    "Next method is purely for timing purposes"
   ]
  },
  {
   "cell_type": "code",
   "execution_count": 57,
   "metadata": {
    "collapsed": false,
    "deletable": true,
    "editable": true
   },
   "outputs": [],
   "source": [
    "def wrapper(func, *args):\n",
    "    def wrapped():\n",
    "        return func(*args)\n",
    "    return wrapped"
   ]
  },
  {
   "cell_type": "markdown",
   "metadata": {
    "deletable": true,
    "editable": true
   },
   "source": [
    "Code to run the parser for every keyword list and then adding the scraped text to the corresponding array in the school object.\n",
    "# Warning this code takes a LONG time, don't give up on it."
   ]
  },
  {
   "cell_type": "code",
   "execution_count": 58,
   "metadata": {
    "collapsed": false,
    "deletable": true,
    "editable": true
   },
   "outputs": [],
   "source": [
    "links = getUsefulLinks()\n",
    "\n",
    "def addTextToSchoolObject(school):\n",
    "    keywordLists = [mission, curriculum, philosophy, history, target, resources, orgfactor]\n",
    "    schoolArrayNames = ['mission', 'curriculum', 'philosophy', 'history', 'target', 'resources' , 'organizational_factors']\n",
    "\n",
    "    for x in range(0, len(keywordLists)):\n",
    "        school[schoolArrayNames[x]] += [mapURLs(links, keywordLists[x])]"
   ]
  },
  {
   "cell_type": "code",
   "execution_count": 59,
   "metadata": {
    "collapsed": false,
    "deletable": true,
    "editable": true
   },
   "outputs": [
    {
     "data": {
      "text/plain": [
       "54.78619405739539"
      ]
     },
     "execution_count": 59,
     "metadata": {},
     "output_type": "execute_result"
    }
   ],
   "source": [
    "import timeit\n",
    "\n",
    "wrapped = wrapper(addTextToSchoolObject, school)\n",
    "timeit.timeit(wrapped, number=1)"
   ]
  },
  {
   "cell_type": "markdown",
   "metadata": {
    "deletable": true,
    "editable": true
   },
   "source": [
    "yikes that's a long time..."
   ]
  },
  {
   "cell_type": "code",
   "execution_count": 60,
   "metadata": {
    "collapsed": false,
    "deletable": true,
    "editable": true
   },
   "outputs": [
    {
     "name": "stdout",
     "output_type": "stream",
     "text": [
      "{'mission': ['WCS’s primary mission is to prepare elementary students with the skills necessary for life-long learning by providing a physically and emotionally safe learning environment that supports academic risk-taking, invites student participation and structures cooperative learning experiences.WCS’s primary mission is to prepare students with the skills necessary for life-long learning by providing a physically and emotionally safe learning environment that supports academic risk-taking, invites student participation and structures cooperative learning experiences.Join WAVE and help us deliver on our mission: Building our Community through service to our students, educators and families. Check our flyer for more information.Join WAVE and help us deliver on our mission: Building our Community through service to our students, educators and families. Check our flyer for more information.amberhustead@gmail.com\\nThe President shall provide vision and direction for carrying out the mission of the WAVE. It is the responsibility of the President to oversee all functions and business of the WAVE and to lend support to various planning teams and subcommittees by assuring the allocation of all necessary resources to achieve their goals. The president is the official representative of the WAVE to the school administration and facilitates regular meetings with the Principal, the School Board, and WAVE members. In addition the President is responsible for setting the agenda for monthly WAVE meetings.amberhustead@gmail.com\\nThe President shall provide vision and direction for carrying out the mission of the WAVE. It is the responsibility of the President to oversee all functions and business of the WAVE and to lend support to various planning teams and subcommittees by assuring the allocation of all necessary resources to achieve their goals. The president is the official representative of the WAVE to the school administration and facilitates regular meetings with the Principal, the School Board, and WAVE members. In addition the President is responsible for setting the agenda for monthly WAVE meetings.Participating in our children’s education and developing the strong sense of community that comes from working with others toward a common goal are central to the mission and vision of Westlake Charter. Parents’ active participation is vital to the challenging work of educating all children at Westlake Charter.Participating in our children’s education and developing the strong sense of community that comes from working with others toward a common goal are central to the mission and vision of Westlake Charter. Parents’ active participation is vital to the challenging work of educating all children at Westlake Charter.'], 'curriculum': ['Westlake Charter School students are EXPLORERS! Our curriculum focuses on diversity and appreciation of different cultures, while promoting academic excellence and foreign language acquisition. We offer various specialty classes to all of our students including Art, Physical Education, and Spanish. Our middle school program focuses on Math, Science and Technology and is executed through the use of technology. Westlake Charter School has small class sizes of approximately 22-24 students in K-3rd grade and 29 students in 4th-8th grade.Westlake Charter School’s professional staff is relentless in seeking and trying research-based best practices that engage every student. Our lessons are hands-on and differentiated to meet the diverse needs of all students. Our teachers display a never-ending commitment to improving their own expertise. Furthermore, we would not be as successful without the support and involvement of our parents. Our parent group is outstanding in helping us achieve our goals by volunteering their time in class, fundraising for our unique programs, and providing endless words of encouragement and support. Our school team is second to none!Westlake Charter School students are EXPLORERS! Our curriculum focuses on diversity and appreciation of different cultures, while promoting academic excellence and foreign language acquisition. We offer various specialty classes to all of our students including Art, Physical Education, and Spanish. Our middle school program focuses on Math, Science and Technology and is executed through the use of technology. Westlake Charter School has small class sizes of approximately 22-24 students in K-3rd grade and 29 students in 4th-8th grade.If you are new to Charter Schools, you may not know that Westlake Charter School is a public, tuition-free school just like the school down the street. Charter Schools have flexibility in being able to offer individualized programs, and Westlake Charter School, offers Art, Spanish and Physical Education – instructed by credentialed teachers – to all students, starting in Kindergarten and continuing through 8th grade. Westlake Charter has the smallest class sizes in Natomas, and has been recognized by the  California Department of Education for our Project Based Learning instructional model.Charter Schools are held to the same accountability measures as traditional schools, meaning that we need to make sure we are providing challenging programs and increasing the academic excellence of all of our students. We would encourage you to review our School Accountability Report Cards (K-5 program; 6-8 program), and compare the success we’ve had in our school, to the SARC/school you are considering for your child.If you are new to Charter Schools, you may not know that Westlake Charter School is a public, tuition-free school just like the school down the street. Charter Schools have flexibility in being able to offer individualized programs, and Westlake Charter School, offers Art, Spanish and Physical Education – instructed by credentialed teachers – to all students, starting in Kindergarten and continuing through 8th grade. Westlake Charter has the smallest class sizes in Natomas, and has been recognized by the  California Department of Education for our Project Based Learning instructional model.Westlake Charter School students are EXPLORERS! Our curriculum focuses on diversity and appreciation of different cultures, while promoting academic excellence and foreign language acquisition. We offer various specialty classes to all of our students including Art, Physical Education, and Spanish. Our middle school program builds on the foundation of our elementary program, combines technology with project-based learning, and is committed to your student’s success. Westlake Charter School has small class sizes of approximately 22 students in K-3rd grade, and 26-29 students in 4th-8th grade.Westlake Charter School’s professional staff are relentless in seeking and implementing research-based best practices that engage every student. Our lessons are hands-on and differentiated to meet the diverse needs of all students. Our teachers display a never-ending commitment to improving their own expertise. Furthermore, we would not be as successful without the support and involvement of our parents. WAVE, our parent group, is outstanding in helping us achieve our goals by volunteering their time in class, fundraising for our unique programs, and providing endless words of encouragement and support. Our school team is second to none!Now that you know a little more about our program, we would encourage you to reach out and connect with us at either school campus, or through our Facebook and Twitter pages.Westlake Charter School students are EXPLORERS! Our curriculum focuses on diversity and appreciation of different cultures, while promoting academic excellence and foreign language acquisition. We offer various specialty classes to all of our students including Art, Physical Education, and Spanish. Our middle school program builds on the foundation of our elementary program, combines technology with project-based learning, and is committed to your student’s success. Westlake Charter School has small class sizes of approximately 22 students in K-3rd grade, and 26-29 students in 4th-8th grade.BASE is Westlake Charter School’s Before and After School Explorers program. We serve students from Transitional Kindergarten through 8th grade, across 4 campuses in Natomas. Our program is supported by a team of highly diversified staff that brings with it a variety of cultures, languages, and life experiences.Why choose BASE?\\n– We operate a high-quality program\\n– We provide excellent customer service\\n– Our staff are trained, knowledgeable, and friendlyHow are we different from other after-school programs?\\n– We use student and parent feedback to better meet the needs of our students\\n– Monthly newsletters keep parents updated with important information\\n– We’re open during school breaks and Summer (with the exception of major holidays)\\n– BASE staff work with school staff and schools to better assist students with high needs/behavioral challenges\\n– We are a “drop-in” program\\n– No waiting lists – we’ll staff to fit your need\\n– Low student to staff ratiosHow are we different from other after-school programs?\\n– We use student and parent feedback to better meet the needs of our students\\n– Monthly newsletters keep parents updated with important information\\n– We’re open during school breaks and Summer (with the exception of major holidays)\\n– BASE staff work with school staff and schools to better assist students with high needs/behavioral challenges\\n– We are a “drop-in” program\\n– No waiting lists – we’ll staff to fit your need\\n– Low student to staff ratiosCalling all Middle Schoolers! Westlake Charter Middle School still has openings in 6th through 8th grades. Students will have strong school community support, receive their curriculum on an iPad, attend Art, PE and Spanish and have 6 additional self selected electives through out the year. Please call 916.928.3987 or […]'], 'philosophy': ['Live the Core Values:\\nBy living Westlake’s Core Values including Responsibility, Respect and Stewardship, we can make sure we move around campus safely are are good neighbors.Explorers, by living our Core Values when travelling to and from campus you’ll help keep our students and streets safe.'], 'history': [''], 'target': [''], 'resources': ['How are we different from other after-school programs?\\n– We use student and parent feedback to better meet the needs of our students\\n– Monthly newsletters keep parents updated with important information\\n– We’re open during school breaks and Summer (with the exception of major holidays)\\n– BASE staff work with school staff and schools to better assist students with high needs/behavioral challenges\\n– We are a “drop-in” program\\n– No waiting lists – we’ll staff to fit your need\\n– Low student to staff ratiosThe\\xa0 WAVE simply offers a structure to connect parents to the volunteer needs\\xa0 of the school. Within this structure there are leadership opportunities\\xa0 which help to define and orchestrate parent participation. There\\xa0are “Teams” such as Fundraising, Hospitality-Community Building, Communications and Parent\\xa0 Participation.WAVE distributes information throughout the school year about current parent\\xa0 participation opportunities and initiates monthly meetings for parents\\xa0 to share ideas. The WAVE strives to find a place for every parent\\xa0 to participate so not only do our children and the school benefit, but\\xa0 we as parents enjoy our experience and are proud of our contribution to\\xa0the amazing culture of Westlake Charter School.'], 'organizational_factors': ['WCS’s primary mission is to prepare elementary students with the skills necessary for life-long learning by providing a physically and emotionally safe learning environment that supports academic risk-taking, invites student participation and structures cooperative learning experiences.Westlake Charter School’s professional staff is relentless in seeking and trying research-based best practices that engage every student. Our lessons are hands-on and differentiated to meet the diverse needs of all students. Our teachers display a never-ending commitment to improving their own expertise. Furthermore, we would not be as successful without the support and involvement of our parents. Our parent group is outstanding in helping us achieve our goals by volunteering their time in class, fundraising for our unique programs, and providing endless words of encouragement and support. Our school team is second to none!Aimee Wells – Operations ManagerStudent Scholarship funds are used to assist students throughout the year. Donations can be made throughout the year, in any denomination. Lunch payments should continue to be made through\\xa0My School Bucks.The Westlake Charter School is governed by a local Board of Directors comprised of teachers, parents and community members. Additional information on our current Board members and policies, as well as Board Agendas and Meeting Minutes can be found in this section of the site.WCS’s primary mission is to prepare students with the skills necessary for life-long learning by providing a physically and emotionally safe learning environment that supports academic risk-taking, invites student participation and structures cooperative learning experiences.Westlake Charter School’s professional staff are relentless in seeking and implementing research-based best practices that engage every student. Our lessons are hands-on and differentiated to meet the diverse needs of all students. Our teachers display a never-ending commitment to improving their own expertise. Furthermore, we would not be as successful without the support and involvement of our parents. WAVE, our parent group, is outstanding in helping us achieve our goals by volunteering their time in class, fundraising for our unique programs, and providing endless words of encouragement and support. Our school team is second to none!Westlake Charter 6th-8th grade students are required to provide community service hours, and what better way to earn those hours than by working in our community! The City of Sacramento and Mayor Pro Tem Angelique Ashby’s Office offers community service and volunteer activities throughout the year, check them out!Have the best informed community:\\nWe will provide our community with the resources and information which allow them to make thoughtful and safe commute decisions.Know the Rules:\\nIn order to help keep traffic moving and our community safe, we ask that you follow certain rules – from where to park, to where to drop off your student.Gratitude: Let’s show thanks to our community for supporting our school.Stewardship: Care for the community, neighborhood, and campus.How are we different from other after-school programs?\\n– We use student and parent feedback to better meet the needs of our students\\n– Monthly newsletters keep parents updated with important information\\n– We’re open during school breaks and Summer (with the exception of major holidays)\\n– BASE staff work with school staff and schools to better assist students with high needs/behavioral challenges\\n– We are a “drop-in” program\\n– No waiting lists – we’ll staff to fit your need\\n– Low student to staff ratiosWe are all parents of the children attending Westlake Charter School.\\xa0 We are partners with the school in educating our children about respect, excellence, responsibility,\\xa0 curiosity, confidence, diversity, community, and joyful learning.amberhustead@gmail.com\\nThe President shall provide vision and direction for carrying out the mission of the WAVE. It is the responsibility of the President to oversee all functions and business of the WAVE and to lend support to various planning teams and subcommittees by assuring the allocation of all necessary resources to achieve their goals. The president is the official representative of the WAVE to the school administration and facilitates regular meetings with the Principal, the School Board, and WAVE members. In addition the President is responsible for setting the agenda for monthly WAVE meetings.elena.thrower@gmail.com\\nThe Vice President shall assist the President and carry out the President’s duties in his or her absence or inability to serve; oversee fundraising Committee, including but not limited to the three major annual fundraisers (Golf Tournament, Olympic Triathlon, Spring Fundraiser); review new business proposals and business contracts for Executive Board discussion and/or approval; participate as a member of the Business and Finance committee; attend WCS finance committee meetings as a liaison for WAVE.Shall oversee Parent Participation team; oversee Hospitality and Community Building team and community building events; encourage new ways for WAVE members to be involved and meet their parent participation hours; assist the president as needed.Participating in our children’s education and developing the strong sense of community that comes from working with others toward a common goal are central to the mission and vision of Westlake Charter. Parents’ active participation is vital to the challenging work of educating all children at Westlake Charter.For the fifth consecutive year, WCS scored the highest API in Natomas.\\xa0 The school is\\xa0 also offering priority enrollment to 6th through 8th grade students. Read all about it.Calling all Middle Schoolers! Westlake Charter Middle School still has openings in 6th through 8th grades. Students will have strong school community support, receive their curriculum on an iPad, attend Art, PE and Spanish and have 6 additional self selected electives through out the year. Please call 916.928.3987 or […]This week of conferences was truly an example of the collaboration between school and families. Students were excited to share what they have been learning this year. Families, thank you for being a strong partner in your student’s education.']}\n"
     ]
    }
   ],
   "source": [
    "print(school)"
   ]
  }
 ],
 "metadata": {
  "kernelspec": {
   "display_name": "Python 3",
   "language": "python",
   "name": "python3"
  },
  "language_info": {
   "codemirror_mode": {
    "name": "ipython",
    "version": 3
   },
   "file_extension": ".py",
   "mimetype": "text/x-python",
   "name": "python",
   "nbconvert_exporter": "python",
   "pygments_lexer": "ipython3",
   "version": "3.6.0"
  }
 },
 "nbformat": 4,
 "nbformat_minor": 2
}
