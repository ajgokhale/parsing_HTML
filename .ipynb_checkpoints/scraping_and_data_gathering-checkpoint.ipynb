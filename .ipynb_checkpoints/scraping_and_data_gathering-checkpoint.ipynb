{
 "cells": [
  {
   "cell_type": "code",
   "execution_count": 16,
   "metadata": {
    "collapsed": false,
    "deletable": true,
    "editable": true
   },
   "outputs": [],
   "source": [
    "from bs4 import BeautifulSoup\n",
    "\n",
    "import requests\n",
    "\n",
    "url = 'https://www.polk.edu/lakeland-gateway-to-college-high-school/about'\n",
    "\n",
    "r  = requests.get(url)\n",
    "\n",
    "data = r.text\n",
    "soup = BeautifulSoup(data, \"lxml\")"
   ]
  },
  {
   "cell_type": "markdown",
   "metadata": {
    "deletable": true,
    "editable": true
   },
   "source": [
    "***Using beautifulsoup we are able to parse through the website***\n",
    "\n",
    "*Note:* if the above cell errors, the website is not legit\n",
    "\n",
    "Now we parse through the collected data which is stored in a beautifulsoup style in the soup variable, so we use the below calls to h and j to call upon the 'a' and 'p' tags to find all of the external links corresponding to the page and all the text within the webpage\n",
    "\n",
    "*Note:* Please find a better way to get all the text as was a problem with the Core Values example"
   ]
  },
  {
   "cell_type": "code",
   "execution_count": 17,
   "metadata": {
    "collapsed": false,
    "deletable": true,
    "editable": true
   },
   "outputs": [
    {
     "name": "stdout",
     "output_type": "stream",
     "text": [
      "Students Served: 23,755\n",
      "Degree-seeking Students: 15,755\n",
      "Average Age: 25.4\n",
      "61% Female / 36% Male\n",
      "77% Part-time / 23% Full-time\n",
      "Polk County Residents: 73.4%\n",
      "\n",
      "Polk State College, established in 1964, is a multi-campus institution serving over 20,000 students with Bachelor of Applied Science, Bachelor of Science, Associate in Arts and  Associate in Science degrees, as well as a wide range of certificate and workforce training options. The College also operates three charter high schools.\n",
      "Polk State’s advantages include small class sizes; hands-on learning; dedicated faculty; day and night classes; online options; affordable tuition; excellent financial aid; a diverse community and vibrant student life, including fine arts opportunities, clubs, and intercollegiate athletics.\n",
      "We are the perfect place to soar. We are Polk.\n",
      " \n",
      "Polk State arts students get the skills to turn their passions into careers.\n",
      " \r\n",
      "\r\n",
      "As students return to campus this week, one of the people they're sure to meet is Chris Fullerton, director of…\n",
      "Polk State College\n",
      "\n",
      "Winter Haven · Lakeland\n",
      "Bartow · Lake Wales\n",
      "\n",
      "(863) 297-1000\n",
      "© 2017 Polk State College. All Rights Reserved.\r\n",
      "\t\n",
      "Sitemap\n",
      "Privacy Policy\n",
      "Disclaimer\n",
      "Equity & Diversity\n",
      "Careers\n",
      "Course Catalog\n",
      "Intranet\n",
      "\n",
      "\n"
     ]
    }
   ],
   "source": [
    "h = soup.find_all('a')\n",
    "j = soup.find_all('p')\n",
    "for lin in j:\n",
    "    k = str(lin)\n",
    "    if lin.get('class') == None and lin.get('a') == None and len(k.split('|')) == 1:\n",
    "        print(lin.get_text())\n",
    "\n",
    " "
   ]
  },
  {
   "cell_type": "code",
   "execution_count": 43,
   "metadata": {
    "collapsed": false,
    "deletable": true,
    "editable": true
   },
   "outputs": [
    {
     "name": "stdout",
     "output_type": "stream",
     "text": [
      "['Polk State\\xa0College\\xa0Mission']\n",
      "h2\n",
      "Polk State College, a quality-driven institution, transforms students’ lives through the power of education by providing access to affordable associate and baccalaureate degrees, career certificates and workforce employment programs, delivered by diverse, qualified faculty and staff.\n"
     ]
    }
   ],
   "source": [
    "import re\n",
    "\n",
    "tester = soup.find_all('div')\n",
    "\n",
    "tester2 = soup.findAll(text=re.compile('Mission'))\n",
    "print(tester2)\n",
    "textHolder = 'test: \\n'\n",
    "\n",
    "lst = []\n",
    "\n",
    "for elem in soup(text=re.compile('Mission')):\n",
    "    lst.append(elem.parent)\n",
    "    \n",
    "for tag in lst:\n",
    "    print(tag.name)\n",
    "    \n",
    "if 'h' in lst[0].name:\n",
    "    pTag = lst[0].findNext('p')\n",
    "    print(pTag.text)\n",
    "    #for sibling in lst[0].next_element:\n",
    "        #if type(sibling) != 'bs4.element.NavigableString':\n",
    "     #   print(type(nextTag))\n",
    "   #print(nextTag.text)"
   ]
  },
  {
   "cell_type": "markdown",
   "metadata": {
    "deletable": true,
    "editable": true
   },
   "source": [
    "***Now we get all the external links.***"
   ]
  },
  {
   "cell_type": "code",
   "execution_count": null,
   "metadata": {
    "collapsed": false,
    "deletable": true,
    "editable": true
   },
   "outputs": [],
   "source": [
    "l = []\n",
    "for i in h:\n",
    "    l.append(i.get('href'))\n",
    "l = set(l)\n",
    "print(l)\n",
    "print(len(l))"
   ]
  },
  {
   "cell_type": "markdown",
   "metadata": {
    "deletable": true,
    "editable": true
   },
   "source": [
    "***Way too many! Also there are very irrelevant external websites.***\n",
    "\n",
    "To take care of this problem we make a urlkey which takes in key words on the urls we actually want to scrape from.\n",
    "\n",
    "*Note:* The urlkey is subject to change based on more or less relevant key words found"
   ]
  },
  {
   "cell_type": "code",
   "execution_count": null,
   "metadata": {
    "collapsed": false,
    "deletable": true,
    "editable": true
   },
   "outputs": [],
   "source": [
    "urlkey = ['about', 'department', 'home', 'community', 'life', 'curriculum', 'hist', 'phil', 'academics', 'moral', 'focus', 'beliefs', 'program', 'resources', 'mission', 'value', 'core']\n",
    "urlkey = [s.upper() for s in urlkey]\n",
    "urlkey"
   ]
  },
  {
   "cell_type": "markdown",
   "metadata": {
    "deletable": true,
    "editable": true
   },
   "source": [
    "***Long story short we now parse through all of those links based on the key word search, and get a new list p which contains the url's we actually want***\n",
    "\n",
    "*Note:* look into children functions"
   ]
  },
  {
   "cell_type": "code",
   "execution_count": null,
   "metadata": {
    "collapsed": false,
    "deletable": true,
    "editable": true
   },
   "outputs": [],
   "source": [
    "p = []\n",
    "for k in l:\n",
    "    try:\n",
    "        #print(j)\n",
    "        j = k.upper()\n",
    "        for i in range(len(urlkey)):\n",
    "            if isinstance(j, list) and len(j) == 1:\n",
    "                j = j[0].split(urlkey[i])\n",
    "            elif isinstance(j, list) and len(j) > 1:\n",
    "                #print(j)\n",
    "                if requests.get(url + k):\n",
    "                    p.append(k)\n",
    "                    break\n",
    "            else:\n",
    "                #print(j)\n",
    "                j = j.split(urlkey[i])\n",
    "    except:\n",
    "        pass\n",
    "\n",
    "p += ['/home']\n",
    "for i in range(len(p)):\n",
    "    k = p[i].upper().split('FREQ')\n",
    "    m = p[i].upper().split('ADMI')\n",
    "    n = p[i].upper().split('TRUSTE')\n",
    "    o = p[i].upper().split('ALUM')\n",
    "    if len(k) > 1 or len(m) > 1 or len(n) > 1 or len(o) > 1:\n",
    "        p[i] = '/home'\n",
    "p = set(p)\n",
    "print(p)\n",
    "print(len(p))"
   ]
  },
  {
   "cell_type": "markdown",
   "metadata": {
    "deletable": true,
    "editable": true
   },
   "source": [
    "***Look at how much less websites we have and how relevant they all are to our scraping.***"
   ]
  },
  {
   "cell_type": "code",
   "execution_count": null,
   "metadata": {
    "collapsed": false,
    "deletable": true,
    "editable": true
   },
   "outputs": [],
   "source": [
    "print(len(p))"
   ]
  },
  {
   "cell_type": "markdown",
   "metadata": {
    "deletable": true,
    "editable": true
   },
   "source": [
    "***Now we create a dictionary to for us to store our relevant texts into into their respective categories***"
   ]
  },
  {
   "cell_type": "code",
   "execution_count": null,
   "metadata": {
    "collapsed": false,
    "deletable": true,
    "editable": true
   },
   "outputs": [],
   "source": [
    "centroidmodel = {'mission' : [], 'curriculum': [], 'philosophy' : [], 'history' : [], 'target' : [], 'resources' : [], 'organizational_factors' : []}\n",
    "centroidmodel"
   ]
  },
  {
   "cell_type": "markdown",
   "metadata": {
    "collapsed": false,
    "deletable": true,
    "editable": true
   },
   "source": [
    "***Now we create a keyword search relevant to each category***\n",
    "\n",
    "*Note:* the key words are subject to change"
   ]
  },
  {
   "cell_type": "code",
   "execution_count": null,
   "metadata": {
    "collapsed": false,
    "deletable": true,
    "editable": true
   },
   "outputs": [],
   "source": [
    "k = [str(x) for x in np.arange(1900,2012)]\n",
    "idk = ['advantage']\n",
    "mission = [' vision ', 'our purpose', 'cause', 'objectives', ' mission', 'vision:', 'mission:']\n",
    "mission = [s.upper() for s in mission]\n",
    "curriculum = [ 'program', 'methods', 'pedagogy', 'approach', 'model', 'curriculum', 'academics', 'degree']\n",
    "curriculum = [s.upper() for s in curriculum]\n",
    "philosophy = ['beliefs', 'principles', 'creed', 'values', 'philosophy', 'moral']\n",
    "philosophy = [s.upper() for s in philosophy]\n",
    "history = ['story', 'background', 'founded', 'established'] + k\n",
    "history = [s.upper() for s in history]\n",
    "target = ['gifted', 'at-risk', 'ethnic background', 'target population', 'target audience']\n",
    "target = [s.upper() for s in target]\n",
    "resources = ['ESL', 'tutoring', 'after-school programs', 'available resources', 'services', 'opportunities', 'opportunity']\n",
    "resources = [s.upper() for s in resources]\n",
    "orgfactor = ['statistics', 'API', 'environment', 'ratio', 'average', 'female', 'fund', 'community'  ]\n",
    "orgfactor = [s.upper() for s in orgfactor]"
   ]
  },
  {
   "cell_type": "markdown",
   "metadata": {
    "deletable": true,
    "editable": true
   },
   "source": [
    "***We create a mapper function to map the text which we parse through into its relevant category in the dictionary***"
   ]
  },
  {
   "cell_type": "code",
   "execution_count": null,
   "metadata": {
    "collapsed": false,
    "deletable": true,
    "editable": true
   },
   "outputs": [],
   "source": [
    "def mapper(txt):\n",
    "    print(txt.upper())\n",
    "    text = txt.upper()\n",
    "    for i in range(len(mission)):\n",
    "        if not isinstance(text, list):\n",
    "            text = text.split(mission[i])\n",
    "        elif len(text) == 1:\n",
    "            text = text[0].split(mission[i])\n",
    "        if len(text) > 1:\n",
    "            centroidmodel['mission'] += [txt]\n",
    "            break\n",
    "            \n",
    "    text1 = txt.upper()\n",
    "    for i in range(len(curriculum)):\n",
    "        if not isinstance(text1, list):\n",
    "            text1 = text1.split(curriculum[i])\n",
    "        elif len(text1) == 1:\n",
    "            text1 = text1[0].split(curriculum[i])\n",
    "        if len(text1) > 1:\n",
    "            centroidmodel['curriculum'] += [txt]\n",
    "            break\n",
    "            \n",
    "    text2 = txt.upper()\n",
    "    for i in range(len(philosophy)):\n",
    "        if not isinstance(text2, list):\n",
    "            text2 = text2.split(philosophy[i])\n",
    "        elif len(text2) == 1:\n",
    "            text2 = text2[0].split(philosophy[i])\n",
    "        if len(text2) > 1:\n",
    "            centroidmodel['philosophy'] += [txt]\n",
    "            break\n",
    "            \n",
    "    text3 = txt.upper()\n",
    "    for i in range(len(history)):\n",
    "        if not isinstance(text3, list):\n",
    "            text3 = text3.split(history[i])\n",
    "        elif len(text3) == 1:\n",
    "            text3 = text3[0].split(history[i])\n",
    "        if len(text3) > 1:\n",
    "            centroidmodel['history'] += [txt]\n",
    "            break\n",
    "    \n",
    "    text4 = txt.upper()\n",
    "    for i in range(len(target)):\n",
    "        if not isinstance(text4, list):\n",
    "            text4 = text4.split(target[i])\n",
    "        elif len(text4) == 1:\n",
    "            text4 = text4[0].split(target[i])\n",
    "        if len(text4) > 1:\n",
    "            centroidmodel['target'] += [txt]\n",
    "            break\n",
    "            \n",
    "    text5 = txt.upper()       \n",
    "    for i in range(len(resources)):\n",
    "        if not isinstance(text5, list):\n",
    "            text5 = text5.split(resources[i])\n",
    "        elif len(text5) == 1:\n",
    "            text5 = text5[0].split(resources[i])\n",
    "        if len(text5) > 1:\n",
    "            centroidmodel['resources'] += [txt]\n",
    "            break\n",
    "            \n",
    "    text6 = txt.upper()\n",
    "    for i in range(len(orgfactor)):\n",
    "        if not isinstance(text6, list):\n",
    "            text6 = text6.split(orgfactor[i])\n",
    "        elif len(text6) == 1:\n",
    "            text6 = text6[0].split(orgfactor[i])\n",
    "        if len(text6) > 1:\n",
    "            centroidmodel['organizational_factors'] += [txt]\n",
    "            break"
   ]
  },
  {
   "cell_type": "markdown",
   "metadata": {
    "deletable": true,
    "editable": true
   },
   "source": [
    "***Now we parse through all the text in all relevant webpages***\n",
    "\n",
    "We can also see all the text parsed through from all the webpages"
   ]
  },
  {
   "cell_type": "code",
   "execution_count": null,
   "metadata": {
    "collapsed": false,
    "deletable": true,
    "editable": true
   },
   "outputs": [],
   "source": [
    "for link in p:\n",
    "    q = requests.get(url + link)\n",
    "    k = q.text\n",
    "    s = BeautifulSoup(k, \"lxml\")\n",
    "    j = s.find_all('p')\n",
    "    for lin in j:\n",
    "        k = str(lin)\n",
    "        if lin.get('class') == None and lin.get('a') == None and len(k.split('|')) == 1:\n",
    "            mapper(' ' + lin.get_text())\n",
    " "
   ]
  },
  {
   "cell_type": "markdown",
   "metadata": {
    "deletable": true,
    "editable": true
   },
   "source": [
    "***Get rid of repeated values***"
   ]
  },
  {
   "cell_type": "code",
   "execution_count": null,
   "metadata": {
    "collapsed": false,
    "deletable": true,
    "editable": true
   },
   "outputs": [],
   "source": [
    "centroidmodel['target'] = set(centroidmodel['target'])\n",
    "centroidmodel['mission'] = set(centroidmodel['mission'])\n",
    "centroidmodel['history'] = set(centroidmodel['history'])\n",
    "centroidmodel['resources'] = set(centroidmodel['resources'])\n",
    "centroidmodel['organizational_factors'] = set(centroidmodel['organizational_factors'])\n",
    "centroidmodel['philosophy'] = set(centroidmodel['philosophy'])\n",
    "centroidmodel['curriculum'] = set(centroidmodel['curriculum'])"
   ]
  },
  {
   "cell_type": "markdown",
   "metadata": {
    "deletable": true,
    "editable": true
   },
   "source": [
    "***Voila we have our data***"
   ]
  },
  {
   "cell_type": "code",
   "execution_count": null,
   "metadata": {
    "collapsed": false,
    "deletable": true,
    "editable": true
   },
   "outputs": [],
   "source": [
    "print(centroidmodel)"
   ]
  },
  {
   "cell_type": "markdown",
   "metadata": {
    "deletable": true,
    "editable": true
   },
   "source": [
    "***How the data looks in the Categories (Examples)***"
   ]
  },
  {
   "cell_type": "code",
   "execution_count": null,
   "metadata": {
    "collapsed": false,
    "deletable": true,
    "editable": true
   },
   "outputs": [],
   "source": [
    "print(centroidmodel['mission'])"
   ]
  },
  {
   "cell_type": "code",
   "execution_count": null,
   "metadata": {
    "collapsed": false,
    "deletable": true,
    "editable": true
   },
   "outputs": [],
   "source": [
    "print(centroidmodel['curriculum'])"
   ]
  },
  {
   "cell_type": "code",
   "execution_count": null,
   "metadata": {
    "collapsed": true,
    "deletable": true,
    "editable": true
   },
   "outputs": [],
   "source": []
  }
 ],
 "metadata": {
  "anaconda-cloud": {},
  "kernelspec": {
   "display_name": "Python 3",
   "language": "python",
   "name": "python3"
  },
  "language_info": {
   "codemirror_mode": {
    "name": "ipython",
    "version": 3
   },
   "file_extension": ".py",
   "mimetype": "text/x-python",
   "name": "python",
   "nbconvert_exporter": "python",
   "pygments_lexer": "ipython3",
   "version": "3.6.0"
  }
 },
 "nbformat": 4,
 "nbformat_minor": 2
}
