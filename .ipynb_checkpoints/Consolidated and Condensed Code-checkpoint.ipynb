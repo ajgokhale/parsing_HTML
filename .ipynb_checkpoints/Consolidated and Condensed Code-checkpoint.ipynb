{
 "cells": [
  {
   "cell_type": "markdown",
   "metadata": {
    "deletable": true,
    "editable": true
   },
   "source": [
    "# Trying to Condense Code"
   ]
  },
  {
   "cell_type": "markdown",
   "metadata": {
    "deletable": true,
    "editable": true
   },
   "source": [
    "This code opens a webpage and attempts to get every link from within it"
   ]
  },
  {
   "cell_type": "markdown",
   "metadata": {
    "deletable": true,
    "editable": true
   },
   "source": [
    "Problems with the below code: HTTPError 403\n",
    "\n",
    "Thao said that there was a work around for 403's??"
   ]
  },
  {
   "cell_type": "code",
   "execution_count": 51,
   "metadata": {
    "collapsed": false,
    "deletable": true,
    "editable": true
   },
   "outputs": [],
   "source": [
    "from bs4 import BeautifulSoup\n",
    "import urllib\n",
    "import re\n",
    " \n",
    "originalURL = 'https://www.polk.edu/lakeland-gateway-to-college-high-school/'\n",
    "html_page = urllib.request.urlopen('https://www.polk.edu/lakeland-gateway-to-college-high-school/about')\n",
    "\n",
    "soup = BeautifulSoup(html_page, \"lxml\")\n",
    "\n",
    "#Need to adjust parent URL to ensure that it can be used to filter the links in the page\n",
    "def getUsefulParentURL(parentURL):\n",
    "    #list of possible correct endings for the parentURL\n",
    "    possibleParentEnds = ['.org', '.edu', '.com']\n",
    "    \n",
    "    for end in possibleParentEnds:\n",
    "        #attempts to split parentURL by one of the endings\n",
    "        parentURLSplit = parentURL.split(end)\n",
    "        \n",
    "        #if the split is successful then the parentURL is reassigned to the string before the split + the ending\n",
    "        if len(parentURLSplit) > 1:\n",
    "            parentURL = parentURLSplit[0] + end\n",
    "            return parentURL\n",
    "        \n",
    "parentURL = getUsefulParentURL(originalURL)\n",
    "\n",
    "#Finds all links in the page that are within the website and not malformed by ensuring the parentURL is in the URL.\n",
    "def getUsefulLinks():\n",
    "    links = []\n",
    "    \n",
    "    if soup.find_all('a') != None:\n",
    "        for link in soup.find_all('a'):\n",
    "            if link != None and link.get('href') != None and parentURL in link.get('href'):\n",
    "                #print(link.get('href'))\n",
    "                links.append(link.get('href'))\n",
    "    links.append(originalURL)\n",
    "    return links\n",
    "\n",
    "#getUsefulLinks()"
   ]
  },
  {
   "cell_type": "markdown",
   "metadata": {
    "deletable": true,
    "editable": true
   },
   "source": [
    "This method goes through tags and extracts the text from useful tags based on keywords. Filters tags based on the tags in the correct tag list to leave out non-text elements."
   ]
  },
  {
   "cell_type": "code",
   "execution_count": 52,
   "metadata": {
    "collapsed": true,
    "deletable": true,
    "editable": true
   },
   "outputs": [],
   "source": [
    "def findKeyWordTextNeighborTesterWithNameCheck(soup, keyWord):\n",
    "    searchTxt = ''\n",
    "    tagLst = []\n",
    "    correctName = ['p', 'li', 'table']\n",
    "    \n",
    "    #This loop goes through all the text in every tag. If the text contains a keyword, then it puts that text's tag in the\n",
    "    #tagLst.\n",
    "    for elem in soup(text=re.compile(keyWord)):\n",
    "        tagLst.append(elem.parent)\n",
    "    \n",
    "    #This loop goes through each tag and rips the text from that tag. If that tag is a header, then the text from the next \n",
    "    #useful tag is ripped instead. All text is saved in searchTxt\n",
    "    for tag in tagLst:\n",
    "        if 'h' in tag.name:\n",
    "            typeTag = type(soup.find('li'))\n",
    "            current = tag.next_sibling\n",
    "            while not isinstance(current, typeTag) and current.name not in correctName:\n",
    "                current = current.next_sibling\n",
    "            searchTxt = searchTxt + current.text\n",
    "        else:\n",
    "            if(tag.name in correctName):\n",
    "                searchTxt = searchTxt + tag.text\n",
    "            \n",
    "    return searchTxt"
   ]
  },
  {
   "cell_type": "markdown",
   "metadata": {
    "deletable": true,
    "editable": true
   },
   "source": [
    "This method applies the scraping method for each keyword in a list of keywords."
   ]
  },
  {
   "cell_type": "code",
   "execution_count": 53,
   "metadata": {
    "collapsed": false,
    "deletable": true,
    "editable": true
   },
   "outputs": [],
   "source": [
    "def keyWordTextTester(keyWords, soup):\n",
    "    foundTxt = ''\n",
    "    \n",
    "    for keyWord in keyWords:\n",
    "        foundTxt = foundTxt + findKeyWordTextNeighborTesterWithNameCheck(soup, keyWord)\n",
    "    \n",
    "    return foundTxt"
   ]
  },
  {
   "cell_type": "markdown",
   "metadata": {
    "deletable": true,
    "editable": true
   },
   "source": [
    "Lists for keywords for each category"
   ]
  },
  {
   "cell_type": "code",
   "execution_count": 54,
   "metadata": {
    "collapsed": true,
    "deletable": true,
    "editable": true
   },
   "outputs": [],
   "source": [
    "mission = [' vision ', 'Vision ', 'our purpose', ' cause ', ' objectives ', ' mission', ' vision: ', ' mission: ', 'Mission']\n",
    "\n",
    "curriculum = [ 'program', 'methods', 'pedagogy', 'approach', 'model', 'curriculum', 'academics', 'degree']\n",
    "\n",
    "philosophy = ['beliefs', 'principles', 'creed', 'Values', 'philosophy', 'moral']\n",
    "\n",
    "history = ['story', 'background', 'founded', 'established']\n",
    "\n",
    "target = ['gifted', 'at-risk', 'ethnic background', 'target population', 'target audience']\n",
    "\n",
    "resources = ['ESL', 'tutoring', 'after-school programs', 'available resources', 'services', 'opportunities', 'opportunity']\n",
    "\n",
    "orgfactor = ['statistics', 'API', 'environment', 'ratio', 'average', 'female', 'fund', 'community']"
   ]
  },
  {
   "cell_type": "markdown",
   "metadata": {
    "deletable": true,
    "editable": true
   },
   "source": [
    "Once we have the useful links we need to go loop through each one and parse that"
   ]
  },
  {
   "cell_type": "code",
   "execution_count": 55,
   "metadata": {
    "collapsed": false,
    "deletable": true,
    "editable": true
   },
   "outputs": [],
   "source": [
    "#this method takes a list of links and applies the scraping method to that list. \n",
    "#WARNING: this method may take a while since it goes through every link, give it time to run before terminating it.\n",
    "def mapURLs(links, keywords):\n",
    "    foundTxt = ''\n",
    "    for link in links:\n",
    "        new_page = urllib.request.urlopen(link)\n",
    "        new_soup = BeautifulSoup(new_page, \"lxml\")\n",
    "        foundTxt = foundTxt + keyWordTextTester(keywords, new_soup)\n",
    "    return foundTxt\n",
    "\n",
    "#print(mapURLs(links))"
   ]
  },
  {
   "cell_type": "raw",
   "metadata": {},
   "source": [
    "Creating a School Object"
   ]
  },
  {
   "cell_type": "code",
   "execution_count": 56,
   "metadata": {
    "collapsed": true,
    "deletable": true,
    "editable": true
   },
   "outputs": [],
   "source": [
    "school = {'mission' : [], 'curriculum': [], 'philosophy' : [], 'history' : [], 'target' : [], 'resources' : [],\n",
    "          'organizational_factors' : []}\n"
   ]
  },
  {
   "cell_type": "markdown",
   "metadata": {},
   "source": [
    "Code to run the parser for every keyword list and then adding the scraped text to the corresponding array in the school object.\n",
    "# Warning this code takes a LONG time, don't give up on it."
   ]
  },
  {
   "cell_type": "code",
   "execution_count": 57,
   "metadata": {
    "collapsed": false,
    "deletable": true,
    "editable": true
   },
   "outputs": [],
   "source": [
    "links = getUsefulLinks()\n",
    "\n",
    "def addTextToSchoolObject(school):\n",
    "    keywordLists = [mission, curriculum, philosophy, history, target, resources, orgfactor]\n",
    "    schoolArrayNames = ['mission', 'curriculum', 'philosophy', 'history', 'target', 'resources' , 'organizational_factors']\n",
    "\n",
    "    for x in range(0, len(keywordLists)):\n",
    "        school[schoolArrayNames[x]] += [mapURLs(links, keywordLists[x])]"
   ]
  },
  {
   "cell_type": "code",
   "execution_count": 58,
   "metadata": {
    "collapsed": false
   },
   "outputs": [
    {
     "name": "stdout",
     "output_type": "stream",
     "text": [
      "{'mission': ['Polk State College, a quality-driven institution, transforms students’ lives through the power of education by providing access to affordable associate and baccalaureate degrees, career certificates and workforce employment programs, delivered by diverse, qualified faculty and staff.Polk State College, a quality-driven institution, transforms students’ lives through the power of education by providing access to affordable associate and baccalaureate degrees, career certificates and workforce employment programs, delivered by diverse, qualified faculty and staff.Polk State College, a quality-driven institution, transforms students’ lives through the power of education by providing access to affordable associate and baccalaureate degrees, career certificates and workforce employment programs, delivered by diverse, qualified faculty and staff.Mission\\nPolk State College, a quality driven institution, transforms students’ lives through the power of education by providing access to affordable associate and baccalaureate degrees, career certificates and workforce employment programs, delivered by diverse, qualified faculty and staff.Mission\\nPolk State College, a quality driven institution, transforms students’ lives through the power of education by providing access to affordable associate and baccalaureate degrees, career certificates and workforce employment programs, delivered by diverse, qualified faculty and staff.'], 'curriculum': [\"Polk State College, established in 1964, is a multi-campus institution serving over 20,000 students with Bachelor of Applied Science, Bachelor of Science, Associate in Arts and \\xa0Associate in Science degrees, as well as a wide range of certificate and workforce training options. The College also operates three charter high schools.Polk State College is proud to be part of FUSE, a program in partnership with the University of South Florida that provides\\xa0eligible Polk State students with guaranteed admission to a USF System institution upon the successful completion of an associate in arts degree. This program is for students who are starting at Polk State just out of high school, and those that applied to\\xa0a USF System institution and were not immediately admitted.\\xa0Students who participate in FUSE\\xa0will:All of Polk State’s degree programs are designed to meet the needs of its community, positioning students to be hired when they graduate or to succeed at the next level of education.Meta-majors are academic pathways for programs and degrees with similar General Education requirements that lead to similar careers.\\xa0 Students who are not sure what degree\\xa0 to\\xa0pursue can use a meta-major pathway to select\\xa0the appropriate General Education courses.\\xa0 Students are recommended to see an advisor or attend a Career Explorations workshop.\\xa0 For more information on meta-majors, click here.Polk State College is proud to be part of FUSE, a program in partnership with the University of South Florida that provides\\xa0eligible Polk State students with guaranteed admission to a USF System institution upon the successful completion of an associate in arts degree. This program is for students who are starting at Polk State just out of high school, and those that applied to\\xa0a USF System institution and were not immediately admitted.\\xa0Students who participate in FUSE\\xa0will:Polk State College offers a variety of degrees and certificates including bachelor degrees, associate degrees, college-credit certificates, and vocational certificates.Polk State College offers a variety of degrees and workforce certificates to prepare students for future success.The College offers six\\xa0bachelor’s degrees — the Bachelor of Applied Science in Supervision and Management, Bachelor of Science in Criminal Justice, \\xa0Bachelor of Science in Nursing,\\xa0Bachelor of Science in Aerospace Sciences, \\xa0Bachelor of Science in Early Childhood Education, and Bachelor of Science in Elementary Education\\xa0— to allow students to gain advanced training right here in Polk County. \\xa0\\nPolk State also offers the Associate in Science degree for those who seek to enter the workforce immediately after completing their education, and the Associate in Arts degree for those seeking to continue their studies at a four-year institution.Polk State also offers the Associate in Science degree for those who seek to enter the workforce immediately after completing their education, and the Associate in Arts degree for those seeking to continue their studies at a four-year institution.All of Polk State’s degree programs are designed to meet the needs of its community, positioning students to be hired when they graduate or to succeed at the next level of education.Meta-majors are academic pathways for programs and degrees with similar General Education requirements that lead to similar careers.\\xa0 Students who are not sure what degree\\xa0 to\\xa0pursue can use a meta-major pathway to select\\xa0the appropriate General Education courses.\\xa0 Students are recommended to see an advisor or attend a Career Explorations workshop.\\xa0 For more information on meta-majors, click here.Throughout the year, Polk State hosts a diverse slate of special events and programs, from concerts to lectures to summer camps. It’s the College’s way of extending the learning that happens in its classrooms, creating a destination for anyone interested in deeper knowledge, new experiences, or just a little fun.This week, Janice Honiker graduates with a bachelor’s degree and a purpose: She will not let her daughter’s death be…Polk State College, established in 1964, is a multi-campus institution serving over 20,000 students with Bachelor of Applied Science, Bachelor of Science, Associate in Arts and \\xa0Associate in Science degrees, as well as a wide range of certificate and workforce training options. The College also operates three charter high schools.In 1966, ground was broken for Polk State’s first permanent campus, Polk State Winter Haven, located on the shores of Lake Elbert. Within a decade, the campus had expanded to include numerous buildings, accommodating a growing student body and increased program offerings.Aside from expanding its physical presence in the county, in recent years the College has also added a suite of baccalaureate programs to its degree options. These include the Bachelor of Applied Science in Supervision and Management, the Bachelor of Science in Nursing, the Bachelor of Science in Criminal Justice, the Bachelor of Science in Aerospace Sciences, the Bachelor of Science in Early Childhood Education, and the Bachelor of Science in Elementary Education.In 2014, the College expanded again, adding the Polk State Clear Springs Advanced Technology Center.\\xa0 The 45,000-square-foot facility off State Road 60 in Bartow houses high-tech degree programs and the Polk State Corporate College, which provides workforce training.The growth continues at Polk State. In 2016, the Polk State Center for Public Safety opened in Winter Haven. The state-of-the-art facility houses the Polk State Kenneth C. Thompson Institute for Public Safety, as well as the College’s other public safety training and degree programs. The College also recently added a second location in South Lakeland, Polk State Airside Center East, to house its Aerospace Program; the original Airside location is now called Polk State Airside West and is home to the College’s medical imaging programs.Aside from expanding its physical presence in the county, in recent years the College has also added a suite of baccalaureate programs to its degree options. These include the Bachelor of Applied Science in Supervision and Management, the Bachelor of Science in Nursing, the Bachelor of Science in Criminal Justice, the Bachelor of Science in Aerospace Sciences, the Bachelor of Science in Early Childhood Education, and the Bachelor of Science in Elementary Education.In 2014, the College expanded again, adding the Polk State Clear Springs Advanced Technology Center.\\xa0 The 45,000-square-foot facility off State Road 60 in Bartow houses high-tech degree programs and the Polk State Corporate College, which provides workforce training.The growth continues at Polk State. In 2016, the Polk State Center for Public Safety opened in Winter Haven. The state-of-the-art facility houses the Polk State Kenneth C. Thompson Institute for Public Safety, as well as the College’s other public safety training and degree programs. The College also recently added a second location in South Lakeland, Polk State Airside Center East, to house its Aerospace Program; the original Airside location is now called Polk State Airside West and is home to the College’s medical imaging programs.For the Honors-in-Action Project, the Xi Pi Chapter were inspired to do more work in food equity by joining with area restaurants, grocers, and convenience stores to minimize food waste by donating unused food to area shelters and community groups. The project is early in its conception, but was recognized for its unique community approach and potential impact.So he headed to Traviss Career Center in Lakeland, and started a two-year air conditioning training program.In 1995, he began working as a firefighter for the City of Lakeland, and soon he was back in school, this time at Polk State College. He earned his Associate in Science in Fire Science Technology in 2003 and his Associate of Science in EMS in 2005. He is now currently enrolled in the College’s Bachelor of Applied Science in Supervision and Management degree program.Polk’s EMS program, he said, offered him an education unrivaled by any other program in the area — and much of that has to do with EMS Program Director Don Guillette.Reynolds said that the quality of the EMS program is enhanced by the fact that Guillette and his instructors all have real-world experience; Guillette and many of his instructors still work in the EMS field.In his new role, one of his major responsibilities is to maintain certifications for EMTs, paramedics, advanced life support personnel, making sure the department is abiding by local and state guidelines. He also plans and oversees all in-house medical training for the department —\\xa0he also teaches many of the trainings and maintains related records. \\xa0He’s also in charge of the department’s quality assurance program, making sure medical calls are responded to quickly and appropriately, so patients receive the best possible care.In addition to his new position at the LFD, Reynolds also recently agreed to serve on the advisory board for Polk State’s EMS program.The EMS advisory board, like those for other College degree programs, is comprised of representatives from local employers and the College. In the case of the EMS program, Guillette explained, represented employers include Polk County Fire Rescue, the Winter Haven Fire Department, and other agencies.Through advisory boards, the College ensures that its programs are delivering training that is in demand by real-world employers.“It’s a chance to give back to a program that did a lot for me. What we do is a public service and the lion’s share of what we do is respond to medical calls. You have to get the firefighters you see in the movies out of your head. I’ve spent my career at busy stations, and put my hands on a lot of people — and it’s not always been roses,” Reynolds said. “EMS students need to really think about the realities of the job and whether they can stomach the realities of the job.”Shane Reynolds is rescue chief at the Lakeland Fire Department. He holds two associate's degrees from Polk, and is working on his Bachelor of Applied Science in Supervision and Management. In 1995, he began working as a firefighter for the City of Lakeland, and soon he was back in school, this time at Polk State College. He earned his Associate in Science in Fire Science Technology in 2003 and his Associate of Science in EMS in 2005. He is now currently enrolled in the College’s Bachelor of Applied Science in Supervision and Management degree program.The EMS advisory board, like those for other College degree programs, is comprised of representatives from local employers and the College. In the case of the EMS program, Guillette explained, represented employers include Polk County Fire Rescue, the Winter Haven Fire Department, and other agencies.So he headed to Traviss Career Center in Lakeland, and started a two-year air conditioning training program.In 1995, he began working as a firefighter for the City of Lakeland, and soon he was back in school, this time at Polk State College. He earned his Associate in Science in Fire Science Technology in 2003 and his Associate of Science in EMS in 2005. He is now currently enrolled in the College’s Bachelor of Applied Science in Supervision and Management degree program.Polk’s EMS program, he said, offered him an education unrivaled by any other program in the area — and much of that has to do with EMS Program Director Don Guillette.Reynolds said that the quality of the EMS program is enhanced by the fact that Guillette and his instructors all have real-world experience; Guillette and many of his instructors still work in the EMS field.In his new role, one of his major responsibilities is to maintain certifications for EMTs, paramedics, advanced life support personnel, making sure the department is abiding by local and state guidelines. He also plans and oversees all in-house medical training for the department —\\xa0he also teaches many of the trainings and maintains related records. \\xa0He’s also in charge of the department’s quality assurance program, making sure medical calls are responded to quickly and appropriately, so patients receive the best possible care.In addition to his new position at the LFD, Reynolds also recently agreed to serve on the advisory board for Polk State’s EMS program.The EMS advisory board, like those for other College degree programs, is comprised of representatives from local employers and the College. In the case of the EMS program, Guillette explained, represented employers include Polk County Fire Rescue, the Winter Haven Fire Department, and other agencies.Through advisory boards, the College ensures that its programs are delivering training that is in demand by real-world employers.“It’s a chance to give back to a program that did a lot for me. What we do is a public service and the lion’s share of what we do is respond to medical calls. You have to get the firefighters you see in the movies out of your head. I’ve spent my career at busy stations, and put my hands on a lot of people — and it’s not always been roses,” Reynolds said. “EMS students need to really think about the realities of the job and whether they can stomach the realities of the job.”Shane Reynolds is rescue chief at the Lakeland Fire Department. He holds two associate's degrees from Polk, and is working on his Bachelor of Applied Science in Supervision and Management. In 1995, he began working as a firefighter for the City of Lakeland, and soon he was back in school, this time at Polk State College. He earned his Associate in Science in Fire Science Technology in 2003 and his Associate of Science in EMS in 2005. He is now currently enrolled in the College’s Bachelor of Applied Science in Supervision and Management degree program.The EMS advisory board, like those for other College degree programs, is comprised of representatives from local employers and the College. In the case of the EMS program, Guillette explained, represented employers include Polk County Fire Rescue, the Winter Haven Fire Department, and other agencies.Polk State College, established in 1964, is a multi-campus institution serving over 20,000 students with Bachelor of Applied Science, Bachelor of Science, Associate in Arts and \\xa0Associate in Science degrees, as well as a wide range of certificate and workforce training options. The College also operates three charter high schools.Polk State College is proud to be part of FUSE, a program in partnership with the University of South Florida that provides\\xa0eligible Polk State students with guaranteed admission to a USF System institution upon the successful completion of an associate in arts degree. This program is for students who are starting at Polk State just out of high school, and those that applied to\\xa0a USF System institution and were not immediately admitted.\\xa0Students who participate in FUSE\\xa0will:All of Polk State’s degree programs are designed to meet the needs of its community, positioning students to be hired when they graduate or to succeed at the next level of education.Meta-majors are academic pathways for programs and degrees with similar General Education requirements that lead to similar careers.\\xa0 Students who are not sure what degree\\xa0 to\\xa0pursue can use a meta-major pathway to select\\xa0the appropriate General Education courses.\\xa0 Students are recommended to see an advisor or attend a Career Explorations workshop.\\xa0 For more information on meta-majors, click here.Polk State College is proud to be part of FUSE, a program in partnership with the University of South Florida that provides\\xa0eligible Polk State students with guaranteed admission to a USF System institution upon the successful completion of an associate in arts degree. This program is for students who are starting at Polk State just out of high school, and those that applied to\\xa0a USF System institution and were not immediately admitted.\\xa0Students who participate in FUSE\\xa0will:Polk State College offers a variety of degrees and certificates including bachelor degrees, associate degrees, college-credit certificates, and vocational certificates.Polk State College offers a variety of degrees and workforce certificates to prepare students for future success.The College offers six\\xa0bachelor’s degrees — the Bachelor of Applied Science in Supervision and Management, Bachelor of Science in Criminal Justice, \\xa0Bachelor of Science in Nursing,\\xa0Bachelor of Science in Aerospace Sciences, \\xa0Bachelor of Science in Early Childhood Education, and Bachelor of Science in Elementary Education\\xa0— to allow students to gain advanced training right here in Polk County. \\xa0\\nPolk State also offers the Associate in Science degree for those who seek to enter the workforce immediately after completing their education, and the Associate in Arts degree for those seeking to continue their studies at a four-year institution.Polk State also offers the Associate in Science degree for those who seek to enter the workforce immediately after completing their education, and the Associate in Arts degree for those seeking to continue their studies at a four-year institution.All of Polk State’s degree programs are designed to meet the needs of its community, positioning students to be hired when they graduate or to succeed at the next level of education.Meta-majors are academic pathways for programs and degrees with similar General Education requirements that lead to similar careers.\\xa0 Students who are not sure what degree\\xa0 to\\xa0pursue can use a meta-major pathway to select\\xa0the appropriate General Education courses.\\xa0 Students are recommended to see an advisor or attend a Career Explorations workshop.\\xa0 For more information on meta-majors, click here.Throughout the year, Polk State hosts a diverse slate of special events and programs, from concerts to lectures to summer camps. It’s the College’s way of extending the learning that happens in its classrooms, creating a destination for anyone interested in deeper knowledge, new experiences, or just a little fun.This week, Janice Honiker graduates with a bachelor’s degree and a purpose: She will not let her daughter’s death be…This notice is intended for students, employees, volunteers, contractors and applicants and is made in compliance with FL Statute 119.071(5).\\xa0 Polk State College collects your SSN for use in performance of the College’s duties and responsibilities for the following purposes: classification of accounts; identification and scholarship reporting; financial aid processing; athletics recruiting; accreditation of programs; and reporting to a receiving agency or governmental entity where the disclosure is necessary to perform its duties and responsibilities. Social Security numbers are also used as a unique numeric identifier in certain cases and may be used for search purposes. Federal Law requires that we protect social security numbers from disclosure to unauthorized parties. Students and employees are assigned Polk State College identification numbers to assist in protecting their identities.Polk’s Business, Engineering & Technology programs deliver the cutting-edge training employers demand.Polk State College (hereinafter “PSC”) make no representations about the suitability of the information contained on this web site for any purpose. This web site and all of the information it contains is provided “as is” without warranty of any kind whether express or implied. All implied warranties, including, without limitation, implied warranties of merchantability, fitness for a particular purpose, and non-infringement, are hereby expressly disclaimed. In no event shall PSC be liable to any person or business entity for any special, direct, indirect, punitive, incidental or consequential damages arising out of or in connection with the use of this web site or any other web site to which this site is linked, including, without limitation, any lost profits, business interruption, or loss of programs or information even if PSC has been specifically advised of the possibility of such damages whether based on contract, tort, strict liability or otherwise. Because some states do not allow the exclusion or limitation of liability for consequential or incidental damages, the above limitation may not apply to you.Polk’s Health Sciences programs lead the state in test scores, job placements. Mission\\nPolk State College, a quality driven institution, transforms students’ lives through the power of education by providing access to affordable associate and baccalaureate degrees, career certificates and workforce employment programs, delivered by diverse, qualified faculty and staff.Polk State College is an equal access/equal opportunity institution committed to excellence through diversity in education\\xa0and employment.\\xa0The College complies with all state and federal laws granting rights to students, employees, and applicants for employment or admission to the College.\\xa0Polk State College does not discriminate on the basis of race, color, national origin, ethnicity, sex, age, religion, sexual orientation, marital status, veteran status, genetic information, disability, or pregnancy in its programs,\\xa0activities, or employment.Mission\\nPolk State College, a quality driven institution, transforms students’ lives through the power of education by providing access to affordable associate and baccalaureate degrees, career certificates and workforce employment programs, delivered by diverse, qualified faculty and staff.\"], 'philosophy': ['\\nService\\nIntegrity\\nKnowledge\\nDiversity\\nLeadership\\n\\nService\\nIntegrity\\nKnowledge\\nDiversity\\nLeadership\\n\\nService\\nIntegrity\\nKnowledge\\nDiversity\\nLeadership\\nMission\\nPolk State College, a quality driven institution, transforms students’ lives through the power of education by providing access to affordable associate and baccalaureate degrees, career certificates and workforce employment programs, delivered by diverse, qualified faculty and staff.'], 'history': ['Polk State College, established in 1964, is a multi-campus institution serving over 20,000 students with Bachelor of Applied Science, Bachelor of Science, Associate in Arts and \\xa0Associate in Science degrees, as well as a wide range of certificate and workforce training options. The College also operates three charter high schools.Polk State College, established in 1964, is a multi-campus institution serving over 20,000 students with Bachelor of Applied Science, Bachelor of Science, Associate in Arts and \\xa0Associate in Science degrees, as well as a wide range of certificate and workforce training options. The College also operates three charter high schools.To reflect its new status as a baccalaureate institution, in 2009 the College changed its name to Polk State; previously it had been known as Polk Community College and, earlier in its history, Polk Junior College. Two years later, the College rebranded, adopting the Eagle as its mascot — chosen based on Polk County’s large eagle population — and a red, black and white color scheme.Polk State College, established in 1964, is a multi-campus institution serving over 20,000 students with Bachelor of Applied Science, Bachelor of Science, Associate in Arts and \\xa0Associate in Science degrees, as well as a wide range of certificate and workforce training options. The College also operates three charter high schools.'], 'target': [''], 'resources': ['Polk State’s advantages include small class sizes; hands-on learning; dedicated faculty; day and night classes; online options; affordable tuition; excellent financial aid; a diverse community and vibrant student life, including fine arts opportunities, clubs, and intercollegiate athletics.Polk State offers the advantages of\\xa0intimate campus life you might expect from a small college — but has a wide range of opportunities and services that are only possible with an institution that serves over 20,000 students each year.Polk State offers the advantages of\\xa0intimate campus life you might expect from a small college — but has a wide range of opportunities and services that are only possible with an institution that serves over 20,000 students each year.No matter if you’re into the environment or salsa dancing, there is a Polk State student club or organization for you. The College offers dozens of student life opportunities — all you have to do is join. Don’t see what you’re looking for? Contact your campus Student Activities and Leadership Office (SALO) for information on how to start a new club.Polk State’s advantages include small class sizes; hands-on learning; dedicated faculty; day and night classes; online options; affordable tuition; excellent financial aid; a diverse community and vibrant student life, including fine arts opportunities, clubs, and intercollegiate athletics.For the students at Polk State, Phi Theta Kappa represents a place to belong and truly leave an impact during their college experience. Phi Theta Kappa is one of more than 50 clubs and organizations offered through the College’s Student Activities and Leadership Office (SALO). Activities and clubs such as PTK enhance students’ learning experience, add to the community, provide enjoyment, and create more opportunities for success in the future.“It is an honor to receive this award and be recognized by the students,” he said. “Attending Phi Theta Kappa events and supporting our students is one of the best parts of my job. The PTK students represent the best of the best and it’s always incredible to see what they accomplish. PTK provides a fantastic opportunity to engage with and recognize our high-achieving students. They are great representatives for Polk State College, and they truly embody what we mean when we say: We Are Polk.”Polk State’s advantages include small class sizes; hands-on learning; dedicated faculty; day and night classes; online options; affordable tuition; excellent financial aid; a diverse community and vibrant student life, including fine arts opportunities, clubs, and intercollegiate athletics.Polk State offers the advantages of\\xa0intimate campus life you might expect from a small college — but has a wide range of opportunities and services that are only possible with an institution that serves over 20,000 students each year.Polk State offers the advantages of\\xa0intimate campus life you might expect from a small college — but has a wide range of opportunities and services that are only possible with an institution that serves over 20,000 students each year.No matter if you’re into the environment or salsa dancing, there is a Polk State student club or organization for you. The College offers dozens of student life opportunities — all you have to do is join. Don’t see what you’re looking for? Contact your campus Student Activities and Leadership Office (SALO) for information on how to start a new club.The College provides equal educational opportunities for qualified individuals with disabilities and complies with and supports the Americans with Disabilities Act.Polk State College is an equal access/equal opportunity institution committed to excellence through diversity in education\\xa0and employment.\\xa0The College complies with all state and federal laws granting rights to students, employees, and applicants for employment or admission to the College.\\xa0Polk State College does not discriminate on the basis of race, color, national origin, ethnicity, sex, age, religion, sexual orientation, marital status, veteran status, genetic information, disability, or pregnancy in its programs,\\xa0activities, or employment.In guidance with our Strategic Plan ensuring student success, the College recognizes its commitment to ensure that current and future students are not discriminated against and its obligation to ensure a bias free educational environment. Specific procedures for filing a complaint and resolving academic disputes are provided in Rule 4.26 Student Appeal/Complaint Policy. In addition, the College has appointed an Ombudsman on each campus to provide students with an opportunity to have an off-the-record discussion about student concerns. The role and responsibility of the Ombudsman does not replace the formal procedure process for filing any type of complaint.Polk State Lakeland Gateway to College Collegiate High School is an exciting new opportunity for area students, typically between the ages of 16 and 21, who have earned 45% of the credits required for high school graduation. \\xa0All courses are taught on the Polk State Lakeland campus and offered during morning and afternoon hours, to provide students with maximum flexibility and opportunity for success. The school is funded in part through a grant from the Gateway to College National Network.'], 'organizational_factors': ['Polk State’s advantages include small class sizes; hands-on learning; dedicated faculty; day and night classes; online options; affordable tuition; excellent financial aid; a diverse community and vibrant student life, including fine arts opportunities, clubs, and intercollegiate athletics.Correspondence concerning admissions, student records, or registration may be addressed to:Meta-majors are academic pathways for programs and degrees with similar General Education requirements that lead to similar careers.\\xa0 Students who are not sure what degree\\xa0 to\\xa0pursue can use a meta-major pathway to select\\xa0the appropriate General Education courses.\\xa0 Students are recommended to see an advisor or attend a Career Explorations workshop.\\xa0 For more information on meta-majors, click here.All of Polk State’s degree programs are designed to meet the needs of its community, positioning students to be hired when they graduate or to succeed at the next level of education.No matter if you’re into the environment or salsa dancing, there is a Polk State student club or organization for you. The College offers dozens of student life opportunities — all you have to do is join. Don’t see what you’re looking for? Contact your campus Student Activities and Leadership Office (SALO) for information on how to start a new club.At Polk State the doors are always open — to students, of course, but also the community as a whole.Polk State’s advantages include small class sizes; hands-on learning; dedicated faculty; day and night classes; online options; affordable tuition; excellent financial aid; a diverse community and vibrant student life, including fine arts opportunities, clubs, and intercollegiate athletics.During its first semester of operation, the College served nearly 1,200 students —twice the number expected — and it has continued to grow ever since.Summer is right around the corner- Priority registration begins April 3, with open registration beginning April 10. https://t.co/39rWUAYK1vPolk’s Public Safety students put themselves in harm’s way to protect our community.The Polk State College President Screening Committee will begin a process to reduce the list of candidates to approximately 5 finalists for consideration by the Polk State College District Board of Trustees. The Screening Committee members were present at two community forums held earlier this year to hear about the desired attributes for the next Polk State College President. They will be asked to consider those comments as they narrow the field. Mark Turner, chairman of the committee and Vice Chair of the District Board of Trustees said, “I cannot stress enough how grateful we are to have the participation of the members of the screening committee in this very important process. I am confident that they will deliver to the Trustees an excellent slate of finalists who have the skills, experience and passion to take this College, and our county, to the next level of excellence.”The Polk State College President Screening Committee will begin a process to reduce the list of candidates to approximately 5 finalists for consideration by the Polk State College District Board of Trustees. The Screening Committee members were present at two community forums held earlier this year to hear about the desired attributes for the next Polk State College President. They will be asked to consider those comments as they narrow the field. Mark Turner, chairman of the committee and Vice Chair of the District Board of Trustees said, “I cannot stress enough how grateful we are to have the participation of the members of the screening committee in this very important process. I am confident that they will deliver to the Trustees an excellent slate of finalists who have the skills, experience and passion to take this College, and our county, to the next level of excellence.”Annually, the organization hosts regional leadership conventions that provide access to the best development training available. Workshops cover topics such as financial, interpersonal, and communication skills; successful interviewing tips; and other personal development subjects. As well, the conventions provide an environment in which members can recognize chapter work throughout the Florida region.Yael Sykes, an Education baccalaureate student and this year’s PTK Xi Pi President, is married with two children. Before venturing back to college, she naturally focused on her children and sometimes missed adult interaction. As well, she wanted to do more at Polk State than just attend classes; she wanted to contribute and belong. She found her place in PTK. After attending a meeting, she became more heavily involved in the group’s day-to-day operations, eventually becoming the group’s president.For the students, Phi Theta Kappa is much more than an honor society. Members have found a core group of friends who not only help one another, but act more like a community than a group of collegiate peers. For them, the organization is a network of new colleagues, friends, and yes– even family.For the Honors-in-Action Project, the Xi Pi Chapter were inspired to do more work in food equity by joining with area restaurants, grocers, and convenience stores to minimize food waste by donating unused food to area shelters and community groups. The project is early in its conception, but was recognized for its unique community approach and potential impact.Of the biggest accomplishments for both Phi Theta Kappa chapters at Polk State was nominating and submitting Dr. Eileen Holden for the Michael Bennett Lifetime Achievement Award. Retiring college presidents, campus chief executive officers, and state community college directors can be nominated by their respective chapters. Selections for the award are based on outstanding support provided to Phi Theta Kappa students over many years. Dr. Holden was announced as an award winner and will be honored at the international convention in Tennessee this April.For the students at Polk State, Phi Theta Kappa represents a place to belong and truly leave an impact during their college experience. Phi Theta Kappa is one of more than 50 clubs and organizations offered through the College’s Student Activities and Leadership Office (SALO). Activities and clubs such as PTK enhance students’ learning experience, add to the community, provide enjoyment, and create more opportunities for success in the future.Polk State’s advantages include small class sizes; hands-on learning; dedicated faculty; day and night classes; online options; affordable tuition; excellent financial aid; a diverse community and vibrant student life, including fine arts opportunities, clubs, and intercollegiate athletics.Correspondence concerning admissions, student records, or registration may be addressed to:Meta-majors are academic pathways for programs and degrees with similar General Education requirements that lead to similar careers.\\xa0 Students who are not sure what degree\\xa0 to\\xa0pursue can use a meta-major pathway to select\\xa0the appropriate General Education courses.\\xa0 Students are recommended to see an advisor or attend a Career Explorations workshop.\\xa0 For more information on meta-majors, click here.All of Polk State’s degree programs are designed to meet the needs of its community, positioning students to be hired when they graduate or to succeed at the next level of education.No matter if you’re into the environment or salsa dancing, there is a Polk State student club or organization for you. The College offers dozens of student life opportunities — all you have to do is join. Don’t see what you’re looking for? Contact your campus Student Activities and Leadership Office (SALO) for information on how to start a new club.At Polk State the doors are always open — to students, of course, but also the community as a whole.In guidance with our Strategic Plan ensuring student success, the College recognizes its commitment to ensure that current and future students are not discriminated against and its obligation to ensure a bias free educational environment. Specific procedures for filing a complaint and resolving academic disputes are provided in Rule 4.26 Student Appeal/Complaint Policy. In addition, the College has appointed an Ombudsman on each campus to provide students with an opportunity to have an off-the-record discussion about student concerns. The role and responsibility of the Ombudsman does not replace the formal procedure process for filing any type of complaint.Vision\\nPromote excellence and student success through innovation, community impact, and engagement.Polk State Lakeland Gateway to College Collegiate High School is an exciting new opportunity for area students, typically between the ages of 16 and 21, who have earned 45% of the credits required for high school graduation. \\xa0All courses are taught on the Polk State Lakeland campus and offered during morning and afternoon hours, to provide students with maximum flexibility and opportunity for success. The school is funded in part through a grant from the Gateway to College National Network.']}\n"
     ]
    }
   ],
   "source": [
    "addTextToSchoolObject(school)\n",
    "print(school)"
   ]
  }
 ],
 "metadata": {
  "kernelspec": {
   "display_name": "Python 3",
   "language": "python",
   "name": "python3"
  },
  "language_info": {
   "codemirror_mode": {
    "name": "ipython",
    "version": 3
   },
   "file_extension": ".py",
   "mimetype": "text/x-python",
   "name": "python",
   "nbconvert_exporter": "python",
   "pygments_lexer": "ipython3",
   "version": "3.6.0"
  }
 },
 "nbformat": 4,
 "nbformat_minor": 2
}
